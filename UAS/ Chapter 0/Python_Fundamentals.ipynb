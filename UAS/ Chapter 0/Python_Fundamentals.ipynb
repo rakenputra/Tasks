{
  "nbformat": 4,
  "nbformat_minor": 0,
  "metadata": {
    "colab": {
      "provenance": [],
      "authorship_tag": "ABX9TyMtp+Z74cbuN4g6FORfZWeS",
      "include_colab_link": true
    },
    "kernelspec": {
      "name": "python3",
      "display_name": "Python 3"
    },
    "language_info": {
      "name": "python"
    }
  },
  "cells": [
    {
      "cell_type": "markdown",
      "metadata": {
        "id": "view-in-github",
        "colab_type": "text"
      },
      "source": [
        "<a href=\"https://colab.research.google.com/github/rakenputra/machine-learning/blob/main/UAS/%20Chapter%200/Python_Fundamentals.ipynb\" target=\"_parent\"><img src=\"https://colab.research.google.com/assets/colab-badge.svg\" alt=\"Open In Colab\"/></a>"
      ]
    },
    {
      "cell_type": "code",
      "source": [
        "#Raken Putra Athallah\n",
        "#1103204186"
      ],
      "metadata": {
        "id": "gJXDQ_AozE5d"
      },
      "execution_count": null,
      "outputs": []
    },
    {
      "cell_type": "markdown",
      "source": [
        "PyTorch adalah framework open-source untuk pengembangan dan pelatihan model machine learning. Ini menggunakan komputasi dinamis, tensor untuk representasi data, menyertakan modul autograd untuk perhitungan gradien otomatis, dan menyediakan library untuk membangun dan melatih model neural network. PyTorch memiliki fokus kuat dalam penelitian dan komunitas yang besar. Dengan fitur-fitur seperti TorchScript dan TorchServe, PyTorch juga mendukung deployment model di lingkungan produksi."
      ],
      "metadata": {
        "id": "R2aPI08Jirm0"
      }
    },
    {
      "cell_type": "markdown",
      "source": [
        "Modul ini akan membahas berbagai aspek penting dalam PyTorch, yang dibagi menjadi beberapa bagian atau notebook dengan nomor yang berurutan (misalnya, 00, 01, 02). Setiap notebook secara progresif membangun pengetahuan dari notebook sebelumnya.\n",
        "\n",
        "Fokus dari notebook ini adalah tensor, komponen dasar dalam machine learning dan deep learning. Topik utama yang akan dibahas meliputi:\n",
        "\n",
        "1. **Pengenalan terhadap Tensors:**\n",
        "   - Tensors berperan sebagai blok dasar dalam machine learning dan deep learning.\n",
        "\n",
        "2. **Membuat Tensors:**\n",
        "   - Tensors dapat merepresentasikan berbagai jenis data, mulai dari gambar dan kata-kata hingga tabel angka.\n",
        "\n",
        "3. **Mendapatkan Informasi dari Tensors:**\n",
        "   - Selain memasukkan informasi ke dalam tensors, penting juga untuk memahami cara mengekstrak data berharga dari mereka.\n",
        "\n",
        "4. **Manipulasi Tensors:**\n",
        "   - Algoritma machine learning, khususnya jaringan saraf, melibatkan manipulasi tensors melalui operasi seperti penambahan, perkalian, dan penggabungan.\n",
        "\n",
        "5. **Penanganan Bentuk Tensors:**\n",
        "   - Menangani bentuk tensor merupakan tantangan umum dalam machine learning, melibatkan penyelesaian masalah terkait dengan ketidakcocokan bentuk tensor selama operasi.\n",
        "\n",
        "6. **Indexing pada Tensors:**\n",
        "   - Mirip dengan pengindeksan pada daftar Python atau array NumPy, tensors mendukung pengindeksan, tetapi dengan kompleksitas tambahan yang mungkin memiliki lebih banyak dimensi.\n",
        "\n",
        "7. **Mencampur Tensors PyTorch dan NumPy:**\n",
        "   - PyTorch menggunakan tensors (`torch.Tensor`), sementara NumPy lebih suka array (`np.ndarray`). Bagian ini mengeksplorasi integrasi dan pertukaran yang lancar antara keduanya.\n",
        "\n",
        "8. **Reproducibility:**\n",
        "   - Mengingat sifat eksperimental machine learning, mengelola keacakan penting untuk reproduktibilitas. Teknik untuk mengontrol keacakan di PyTorch akan dibahas.\n",
        "\n",
        "9. **Menjalankan Tensors di GPU:**\n",
        "   - Unit Pemrosesan Grafis (GPU) dapat signifikan meningkatkan eksekusi kode. PyTorch mempermudah proses menjalankan kode di GPU, meningkatkan efisiensi komputasi.\n",
        "\n",
        "Dengan mengeksplorasi topik-topik ini, modul ini bertujuan memberikan pemahaman menyeluruh tentang konsep dasar dan teknik praktis dalam PyTorch, yang sangat penting untuk implementasi machine learning dan deep learning yang efektif."
      ],
      "metadata": {
        "id": "E5IjDQ3YjPWi"
      }
    },
    {
      "cell_type": "markdown",
      "source": [
        "**Importing Pytorch**"
      ],
      "metadata": {
        "id": "-Oc6WjlYjV0J"
      }
    },
    {
      "cell_type": "code",
      "execution_count": 1,
      "metadata": {
        "colab": {
          "base_uri": "https://localhost:8080/",
          "height": 35
        },
        "id": "5e5kA8ljiBeT",
        "outputId": "abe6e294-2cf9-4a66-f353-11cdd56855cf"
      },
      "outputs": [
        {
          "output_type": "execute_result",
          "data": {
            "text/plain": [
              "'2.1.0+cu121'"
            ],
            "application/vnd.google.colaboratory.intrinsic+json": {
              "type": "string"
            }
          },
          "metadata": {},
          "execution_count": 1
        }
      ],
      "source": [
        "import torch\n",
        "torch.__version__"
      ]
    },
    {
      "cell_type": "markdown",
      "source": [
        " kode ini digunakan untuk mendapatkan informasi tentang versi PyTorch yang tengah digunakan dalam lingkungan Python yang sedang berjalan."
      ],
      "metadata": {
        "id": "6XMTUQ72jrfk"
      }
    },
    {
      "cell_type": "markdown",
      "source": [
        "**Introduction to tensor**\n",
        "\n",
        " Tensors berfungsi untuk merepresentasikan data secara numerik. Sebagai contoh, gambar dapat diwakili sebagai tensor dengan bentuk [3, 224, 224], yang menyatakan [saluran_warna, tinggi, lebar], dengan 3 saluran warna (merah, hijau, biru), tinggi 224 piksel, dan lebar 224 piksel. Dengan menggunakan tensors, kita dapat efisien memanipulasi dan menganalisis data gambar dalam PyTorch."
      ],
      "metadata": {
        "id": "WplEOPnokOSY"
      }
    },
    {
      "cell_type": "code",
      "source": [
        "# Scalar\n",
        "scalar = torch.tensor(7)\n",
        "scalar"
      ],
      "metadata": {
        "colab": {
          "base_uri": "https://localhost:8080/"
        },
        "id": "AtXd-Xqhjsqp",
        "outputId": "f2be3ac5-400f-4363-81b5-1d534d3b8415"
      },
      "execution_count": 2,
      "outputs": [
        {
          "output_type": "execute_result",
          "data": {
            "text/plain": [
              "tensor(7)"
            ]
          },
          "metadata": {},
          "execution_count": 2
        }
      ]
    },
    {
      "cell_type": "markdown",
      "source": [
        "1. **Scalar:**\n",
        "   - `scalar = torch.tensor(7)`: Baris ini membuat sebuah tensor skalar dengan nilai 7 menggunakan fungsi `torch.tensor()`. Sebuah tensor skalar hanya memiliki satu nilai (tidak ada dimensi tambahan).\n",
        "  \n",
        "2. **Display Scalar:**\n",
        "   - `scalar`: Baris ini menampilkan nilai dari tensor skalar yang telah dibuat. Hasilnya akan menunjukkan nilai 7.\n",
        "\n",
        "Jadi, keseluruhan kode ini digunakan untuk membuat dan menampilkan sebuah tensor skalar dengan nilai 7 menggunakan PyTorch."
      ],
      "metadata": {
        "id": "W0GhmZcRkhVF"
      }
    },
    {
      "cell_type": "code",
      "source": [
        "scalar.ndim"
      ],
      "metadata": {
        "colab": {
          "base_uri": "https://localhost:8080/"
        },
        "id": "X2cqV127ktnk",
        "outputId": "e2d35abb-6858-4d32-ce48-32871128142a"
      },
      "execution_count": 3,
      "outputs": [
        {
          "output_type": "execute_result",
          "data": {
            "text/plain": [
              "0"
            ]
          },
          "metadata": {},
          "execution_count": 3
        }
      ]
    },
    {
      "cell_type": "markdown",
      "source": [
        "roperti ndim digunakan untuk mendapatkan jumlah dimensi dari sebuah tensor.Pada PyTorch, saat Anda mengecek atribut ndim pada sebuah tensor skalar, hasilnya adalah 0. Ini menunjukkan bahwa tensor skalar tidak memiliki dimensi (dimensi 0). Jadi, pada kasus ini, scalar.ndim menghasilkan nilai 0, menandakan bahwa tensor skalar tidak memiliki dimensi tambahan selain nilai tunggal yang dimilikinya."
      ],
      "metadata": {
        "id": "GGCkZpKylH75"
      }
    },
    {
      "cell_type": "code",
      "source": [
        "# Get the Python number within a tensor (only works with one-element tensors)\n",
        "scalar.item()"
      ],
      "metadata": {
        "colab": {
          "base_uri": "https://localhost:8080/"
        },
        "id": "Eqi9gO72lNze",
        "outputId": "2877be7d-a13f-40d3-a658-9b858c6414ec"
      },
      "execution_count": 4,
      "outputs": [
        {
          "output_type": "execute_result",
          "data": {
            "text/plain": [
              "7"
            ]
          },
          "metadata": {},
          "execution_count": 4
        }
      ]
    },
    {
      "cell_type": "code",
      "source": [
        "# Vector\n",
        "vector = torch.tensor([7, 7])\n",
        "vector"
      ],
      "metadata": {
        "colab": {
          "base_uri": "https://localhost:8080/"
        },
        "id": "P6fG-Mm_lX35",
        "outputId": "0bdff52e-6ac6-4bfb-ccb1-543ec1d8dcac"
      },
      "execution_count": 5,
      "outputs": [
        {
          "output_type": "execute_result",
          "data": {
            "text/plain": [
              "tensor([7, 7])"
            ]
          },
          "metadata": {},
          "execution_count": 5
        }
      ]
    },
    {
      "cell_type": "code",
      "source": [
        "# Check the number of dimensions of vector\n",
        "vector.ndim"
      ],
      "metadata": {
        "colab": {
          "base_uri": "https://localhost:8080/"
        },
        "id": "OVVhgP47lc91",
        "outputId": "8e108f2a-f364-4201-bf4d-1e35d5d550aa"
      },
      "execution_count": 6,
      "outputs": [
        {
          "output_type": "execute_result",
          "data": {
            "text/plain": [
              "1"
            ]
          },
          "metadata": {},
          "execution_count": 6
        }
      ]
    },
    {
      "cell_type": "markdown",
      "source": [
        "Vektor yang dibuat dengan PyTorch memiliki dua angka, namun hanya memiliki satu dimensi. Jumlah dimensi suatu tensor dalam PyTorch dapat ditentukan dari jumlah tanda kurung siku luar ([) dan Anda hanya perlu menghitung satu sisi. Pada vektor ini, terdapat satu tanda kurung siku luar, sehingga vektornya memiliki satu dimensi.\n",
        "\n",
        "Selain itu, konsep penting lainnya untuk tensor adalah atribut bentuk (`shape`). Bentuk memberi tahu Anda bagaimana elemen-elemen di dalamnya diatur."
      ],
      "metadata": {
        "id": "_mPumGSqmBsw"
      }
    },
    {
      "cell_type": "code",
      "source": [
        "# Check shape of vector\n",
        "vector.shape"
      ],
      "metadata": {
        "colab": {
          "base_uri": "https://localhost:8080/"
        },
        "id": "UsgWxwNUldvR",
        "outputId": "cf9a8f6b-86b3-4dce-bf91-d413792bf787"
      },
      "execution_count": 7,
      "outputs": [
        {
          "output_type": "execute_result",
          "data": {
            "text/plain": [
              "torch.Size([2])"
            ]
          },
          "metadata": {},
          "execution_count": 7
        }
      ]
    },
    {
      "cell_type": "markdown",
      "source": [
        "Baris kode tersebut digunakan untuk memeriksa bentuk (shape) dari vektor yang telah dibuat sebelumnya. Berikut adalah penjelasan singkat:\n",
        "\n",
        "1. **Check Shape of Vector:**\n",
        "   - `vector.shape`: Baris ini mengembalikan atribut bentuk dari vektor. Hasilnya menunjukkan bahwa bentuk vektor adalah `torch.Size([2])`.\n",
        "   - `[2]` mengindikasikan bahwa vektor memiliki 2 elemen, sesuai dengan jumlah angka yang terdapat dalam vektor tersebut.\n",
        "\n",
        "Jadi, vektor ini memiliki bentuk (shape) `[2]`, menunjukkan bahwa vektor tersebut merupakan tensor satu dimensi dengan dua elemen."
      ],
      "metadata": {
        "id": "pdhiO9b7mTEt"
      }
    },
    {
      "cell_type": "code",
      "source": [
        "# Matrix\n",
        "MATRIX = torch.tensor([[7, 8],\n",
        "                       [9, 10]])\n",
        "MATRIX"
      ],
      "metadata": {
        "colab": {
          "base_uri": "https://localhost:8080/"
        },
        "id": "J4nAPmIEmHs1",
        "outputId": "594ed814-7c48-4c9a-8090-af8c93b82f6b"
      },
      "execution_count": 8,
      "outputs": [
        {
          "output_type": "execute_result",
          "data": {
            "text/plain": [
              "tensor([[ 7,  8],\n",
              "        [ 9, 10]])"
            ]
          },
          "metadata": {},
          "execution_count": 8
        }
      ]
    },
    {
      "cell_type": "code",
      "source": [
        "# Check number of dimensions\n",
        "MATRIX.ndim"
      ],
      "metadata": {
        "colab": {
          "base_uri": "https://localhost:8080/"
        },
        "id": "iGYidVZWmW5B",
        "outputId": "974b1a66-dd81-4f87-c96a-c08863bfd572"
      },
      "execution_count": 9,
      "outputs": [
        {
          "output_type": "execute_result",
          "data": {
            "text/plain": [
              "2"
            ]
          },
          "metadata": {},
          "execution_count": 9
        }
      ]
    },
    {
      "cell_type": "code",
      "source": [
        "MATRIX.shape"
      ],
      "metadata": {
        "colab": {
          "base_uri": "https://localhost:8080/"
        },
        "id": "f5MS9PyjmZMs",
        "outputId": "0f181944-65dd-4c6b-83f9-47ff6ad0f61f"
      },
      "execution_count": 10,
      "outputs": [
        {
          "output_type": "execute_result",
          "data": {
            "text/plain": [
              "torch.Size([2, 2])"
            ]
          },
          "metadata": {},
          "execution_count": 10
        }
      ]
    },
    {
      "cell_type": "code",
      "source": [
        "# Tensor\n",
        "TENSOR = torch.tensor([[[1, 2, 3],\n",
        "                        [3, 6, 9],\n",
        "                        [2, 4, 5]]])\n",
        "TENSOR"
      ],
      "metadata": {
        "colab": {
          "base_uri": "https://localhost:8080/"
        },
        "id": "CFCPdsFXmrw1",
        "outputId": "1d9e0286-5e42-4f13-c9da-132aff3071b7"
      },
      "execution_count": 11,
      "outputs": [
        {
          "output_type": "execute_result",
          "data": {
            "text/plain": [
              "tensor([[[1, 2, 3],\n",
              "         [3, 6, 9],\n",
              "         [2, 4, 5]]])"
            ]
          },
          "metadata": {},
          "execution_count": 11
        }
      ]
    },
    {
      "cell_type": "code",
      "source": [
        "# Check number of dimensions for TENSOR\n",
        "TENSOR.ndim"
      ],
      "metadata": {
        "colab": {
          "base_uri": "https://localhost:8080/"
        },
        "id": "PImPJlx1msiF",
        "outputId": "3be3909d-7d26-4625-a590-05a236f7ce3c"
      },
      "execution_count": 12,
      "outputs": [
        {
          "output_type": "execute_result",
          "data": {
            "text/plain": [
              "3"
            ]
          },
          "metadata": {},
          "execution_count": 12
        }
      ]
    },
    {
      "cell_type": "code",
      "source": [
        "# Check shape of TENSOR\n",
        "TENSOR.shape"
      ],
      "metadata": {
        "colab": {
          "base_uri": "https://localhost:8080/"
        },
        "id": "Xp3vAWHkmxEH",
        "outputId": "c79e7c59-5135-406e-ff6e-f93fb2b0b012"
      },
      "execution_count": 13,
      "outputs": [
        {
          "output_type": "execute_result",
          "data": {
            "text/plain": [
              "torch.Size([1, 3, 3])"
            ]
          },
          "metadata": {},
          "execution_count": 13
        }
      ]
    },
    {
      "cell_type": "markdown",
      "source": [
        "Kode tersebut membuat, menampilkan, dan memeriksa atribut dimensi (number of dimensions) serta bentuk (shape) dari sebuah tensor tiga dimensi menggunakan PyTorch. Berikut adalah penjelasan singkat:\n",
        "\n",
        "1. **Tensor Creation:**\n",
        "   - `TENSOR = torch.tensor([[[1, 2, 3], [3, 6, 9], [2, 4, 5]]])`: Baris ini membuat sebuah tensor tiga dimensi dengan nilai-nilai yang disediakan.\n",
        "\n",
        "2. **Display Tensor:**\n",
        "   - `TENSOR`: Baris ini menampilkan nilai dari tensor tiga dimensi yang telah dibuat.\n",
        "\n",
        "3. **Check Number of Dimensions for Tensor:**\n",
        "   - `TENSOR.ndim`: Baris ini mengembalikan jumlah dimensi dari tensor. Dalam kasus ini, tensor memiliki tiga dimensi, sesuai dengan tiga tingkat tanda kurung siku dalam pembuatannya.\n",
        "\n",
        "4. **Check Shape of Tensor:**\n",
        "   - `TENSOR.shape`: Baris ini mengembalikan atribut bentuk dari tensor. Hasilnya menunjukkan bahwa bentuk tensor adalah `torch.Size([1, 3, 3])`.\n",
        "   - `[1, 3, 3]` mengindikasikan bahwa tensor ini memiliki dimensi pertama sejumlah 1, dimensi kedua sejumlah 3, dan dimensi ketiga sejumlah 3.\n",
        "\n",
        "Jadi, secara keseluruhan, kode ini menciptakan, menampilkan, dan memeriksa informasi dimensi dan bentuk dari sebuah tensor tiga dimensi."
      ],
      "metadata": {
        "id": "HJqNEpjcnPPr"
      }
    },
    {
      "cell_type": "markdown",
      "source": [
        "**Random Tensor**\n",
        "\n",
        "Random tensor adalah tensor yang diisi dengan nilai-nilai acak. Dalam PyTorch, Anda dapat membuat random tensor menggunakan fungsi-fungsi tertentu dari modul `torch` atau `torch.rand`, `torch.randn`, dan lainnya. Berikut adalah penjelasan singkat tentang beberapa cara membuat random tensor:\n",
        "\n",
        "1. **torch.rand():**\n",
        "   - Menghasilkan random tensor dengan nilai-nilai acak yang berada di antara 0 dan 1, dengan distribusi seragam (uniform distribution).\n",
        "   - Contoh: `torch.rand(3, 4)` akan menghasilkan tensor 3x4 dengan nilai acak antara 0 dan 1.\n",
        "\n",
        "2. **torch.randn():**\n",
        "   - Menghasilkan random tensor dengan nilai-nilai acak yang diambil dari distribusi normal dengan mean 0 dan variansi 1 (distribusi normal standar).\n",
        "   - Contoh: `torch.randn(2, 2)` akan menghasilkan tensor 2x2 dengan nilai acak dari distribusi normal standar.\n",
        "\n",
        "3. **torch.randint():**\n",
        "   - Menghasilkan random tensor dengan nilai-nilai integer acak dalam suatu range tertentu.\n",
        "   - Contoh: `torch.randint(low=1, high=10, size=(3, 3))` akan menghasilkan tensor 3x3 dengan nilai integer acak antara 1 dan 10.\n",
        "\n",
        "4. **torch.randperm():**\n",
        "   - Menghasilkan random tensor yang berisi permutasi acak dari nilai-nilai integer dari 0 hingga n-1.\n",
        "   - Contoh: `torch.randperm(5)` akan menghasilkan tensor yang mungkin mirip dengan `[2, 4, 1, 0, 3]`.\n",
        "\n",
        "Random tensor sering digunakan dalam inisialisasi parameter model, augmentasi data, atau dalam situasi-situasi lain di mana keberagaman nilai-nilai acak diperlukan."
      ],
      "metadata": {
        "id": "vcU02o4znp8V"
      }
    },
    {
      "cell_type": "code",
      "source": [
        "# Create a random tensor of size (3, 4)\n",
        "random_tensor = torch.rand(size=(3, 4))\n",
        "random_tensor, random_tensor.dtype"
      ],
      "metadata": {
        "colab": {
          "base_uri": "https://localhost:8080/"
        },
        "id": "MJ3UUkIgmyVu",
        "outputId": "6530ba33-18a3-4479-a284-17f5abf74580"
      },
      "execution_count": 14,
      "outputs": [
        {
          "output_type": "execute_result",
          "data": {
            "text/plain": [
              "(tensor([[0.7735, 0.6364, 0.3489, 0.3930],\n",
              "         [0.4112, 0.5830, 0.4076, 0.1192],\n",
              "         [0.3758, 0.6786, 0.7624, 0.4031]]),\n",
              " torch.float32)"
            ]
          },
          "metadata": {},
          "execution_count": 14
        }
      ]
    },
    {
      "cell_type": "markdown",
      "source": [
        "Fungsi `torch.rand()` memberikan fleksibilitas untuk menyesuaikan ukuran (size) tensor sesuai kebutuhan. Dalam contoh yang diberikan, kita ingin membuat random tensor dengan bentuk yang umum digunakan dalam representasi gambar, yaitu [224, 224, 3], yang menyatakan [tinggi, lebar, saluran warna].\n",
        "\n"
      ],
      "metadata": {
        "id": "P_iZU6xXppSm"
      }
    },
    {
      "cell_type": "code",
      "source": [
        "# Create a random tensor of size (224, 224, 3)\n",
        "random_image_size_tensor = torch.rand(size=(224, 224, 3))\n",
        "random_image_size_tensor.shape, random_image_size_tensor.ndim"
      ],
      "metadata": {
        "colab": {
          "base_uri": "https://localhost:8080/"
        },
        "id": "PBaG8bEHnpPK",
        "outputId": "ad3505fe-89be-449e-d4c8-07fc5540ff58"
      },
      "execution_count": 15,
      "outputs": [
        {
          "output_type": "execute_result",
          "data": {
            "text/plain": [
              "(torch.Size([224, 224, 3]), 3)"
            ]
          },
          "metadata": {},
          "execution_count": 15
        }
      ]
    },
    {
      "cell_type": "markdown",
      "source": [
        "Dalam beberapa situasi, Anda mungkin ingin mengisi tensor dengan nilai nol atau satu. Hal ini umumnya digunakan dalam konteks penggunaan mask (penyaringan), seperti saat memasukkan nilai-nilai nol ke dalam suatu tensor untuk memberi tahu model agar tidak mempelajarinya.\n",
        "\n",
        "Untuk membuat tensor yang diisi dengan nilai nol, kita dapat menggunakan fungsi `torch.zeros()`. Fungsi ini membutuhkan parameter `size` untuk menentukan ukuran (shape) dari tensor yang akan dibuat.\n",
        "\n"
      ],
      "metadata": {
        "id": "FNrh2qMkp4fq"
      }
    },
    {
      "cell_type": "code",
      "source": [
        "# Create a tensor of all zeros\n",
        "zeros = torch.zeros(size=(3, 4))\n",
        "zeros, zeros.dtype"
      ],
      "metadata": {
        "colab": {
          "base_uri": "https://localhost:8080/"
        },
        "id": "FIfjfLJup58q",
        "outputId": "e15bdca1-a288-44c2-f8ba-821d9367b6c0"
      },
      "execution_count": 16,
      "outputs": [
        {
          "output_type": "execute_result",
          "data": {
            "text/plain": [
              "(tensor([[0., 0., 0., 0.],\n",
              "         [0., 0., 0., 0.],\n",
              "         [0., 0., 0., 0.]]),\n",
              " torch.float32)"
            ]
          },
          "metadata": {},
          "execution_count": 16
        }
      ]
    },
    {
      "cell_type": "code",
      "source": [
        "# Create a tensor of all ones\n",
        "ones = torch.ones(size=(3, 4))\n",
        "ones, ones.dtype"
      ],
      "metadata": {
        "colab": {
          "base_uri": "https://localhost:8080/"
        },
        "id": "eMf1q1Z0p7oe",
        "outputId": "2d242d89-9630-40b7-c61b-d9df688db707"
      },
      "execution_count": 17,
      "outputs": [
        {
          "output_type": "execute_result",
          "data": {
            "text/plain": [
              "(tensor([[1., 1., 1., 1.],\n",
              "         [1., 1., 1., 1.],\n",
              "         [1., 1., 1., 1.]]),\n",
              " torch.float32)"
            ]
          },
          "metadata": {},
          "execution_count": 17
        }
      ]
    },
    {
      "cell_type": "markdown",
      "source": [
        "erkadang Anda mungkin menginginkan rentang angka, seperti 1 hingga 10 atau 0 hingga 100.\n",
        "\n",
        "Anda dapat menggunakan torch.arange(start, end, step) untuk melakukannya.\n"
      ],
      "metadata": {
        "id": "3SSk4jbpqVwM"
      }
    },
    {
      "cell_type": "code",
      "source": [
        "# Use torch.arange(), torch.range() is deprecated\n",
        "zero_to_ten_deprecated = torch.range(0, 10) # Note: this may return an error in the future\n",
        "\n",
        "# Create a range of values 0 to 10\n",
        "zero_to_ten = torch.arange(start=0, end=10, step=1)\n",
        "zero_to_ten"
      ],
      "metadata": {
        "colab": {
          "base_uri": "https://localhost:8080/"
        },
        "id": "9JKbhsn4p_7c",
        "outputId": "1e62d075-eb26-4994-93ae-d47656f1cc54"
      },
      "execution_count": 18,
      "outputs": [
        {
          "output_type": "stream",
          "name": "stderr",
          "text": [
            "<ipython-input-18-a09072c806d9>:2: UserWarning: torch.range is deprecated and will be removed in a future release because its behavior is inconsistent with Python's range builtin. Instead, use torch.arange, which produces values in [start, end).\n",
            "  zero_to_ten_deprecated = torch.range(0, 10) # Note: this may return an error in the future\n"
          ]
        },
        {
          "output_type": "execute_result",
          "data": {
            "text/plain": [
              "tensor([0, 1, 2, 3, 4, 5, 6, 7, 8, 9])"
            ]
          },
          "metadata": {},
          "execution_count": 18
        }
      ]
    },
    {
      "cell_type": "markdown",
      "source": [
        "Seringkali, Anda mungkin ingin membuat tensor lain dengan jenis tertentu dan bentuk yang sama dengan tensor lainnya. Misalnya, membuat tensor berisi nilai-nol dengan bentuk yang sama seperti tensor sebelumnya.\n",
        "\n",
        "Dalam PyTorch, Anda dapat menggunakan `torch.zeros_like(input)` atau `torch.ones_like(input)` untuk mencapai ini. Kedua fungsi ini menghasilkan tensor yang diisi dengan nilai-nol atau satu, sesuai dengan bentuk (shape) tensor input yang diberikan.\n"
      ],
      "metadata": {
        "id": "gYXVWSJnqeJu"
      }
    },
    {
      "cell_type": "code",
      "source": [
        "# Can also create a tensor of zeros similar to another tensor\n",
        "ten_zeros = torch.zeros_like(input=zero_to_ten) # will have same shape\n",
        "ten_zeros"
      ],
      "metadata": {
        "colab": {
          "base_uri": "https://localhost:8080/"
        },
        "id": "icmpafhfqLWE",
        "outputId": "90b80936-effe-46ef-a492-beb9a0cfdb46"
      },
      "execution_count": 19,
      "outputs": [
        {
          "output_type": "execute_result",
          "data": {
            "text/plain": [
              "tensor([0, 0, 0, 0, 0, 0, 0, 0, 0, 0])"
            ]
          },
          "metadata": {},
          "execution_count": 19
        }
      ]
    },
    {
      "cell_type": "markdown",
      "source": [
        "**Tensor Datatypes**\n",
        "\n",
        "Data type (tipe data) dalam PyTorch mengacu pada jenis nilai atau format representasi numerik yang dapat disimpan dalam tensor. PyTorch mendukung berbagai tipe data, dan pemilihan tipe data dapat mempengaruhi ukuran memori yang diperlukan dan rentang nilai yang dapat diwakili oleh tensor. Berikut beberapa tipe data umum dalam PyTorch:\n",
        "\n",
        "1. **torch.float32 (float):**\n",
        "   - Tipe data default untuk bilangan real (float) dalam PyTorch.\n",
        "   - Mewakili bilangan real dengan presisi 32-bit (single precision).\n",
        "\n",
        "2. **torch.float64 (double):**\n",
        "   - Tipe data untuk bilangan real dengan presisi 64-bit (double precision).\n",
        "   - Memberikan presisi yang lebih tinggi dibandingkan dengan float32, namun membutuhkan lebih banyak ruang memori.\n",
        "\n",
        "3. **torch.float16 (half):**\n",
        "   - Tipe data floating-point dengan presisi setengah (half precision).\n",
        "   - Umumnya digunakan untuk mempercepat operasi pada perangkat keras tertentu seperti GPU.\n",
        "\n",
        "4. **torch.int8, torch.int16, torch.int32, torch.int64:**\n",
        "   - Tipe data untuk bilangan bulat dengan berbagai panjang bit (8-bit, 16-bit, 32-bit, dan 64-bit).\n",
        "   - Panjang bit mempengaruhi rentang nilai yang dapat diwakili dan penggunaan memori.\n",
        "\n",
        "5. **torch.uint8:**\n",
        "   - Tipe data untuk bilangan bulat tanpa tanda (unsigned integer) dengan panjang bit 8-bit.\n",
        "   - Digunakan untuk representasi nilai non-negatif.\n",
        "\n",
        "6. **torch.bool:**\n",
        "   - Tipe data boolean, dapat bernilai `True` atau `False`.\n",
        "   - Digunakan untuk operasi logika dan indeksasi boolean pada tensor.\n",
        "\n",
        "Pemilihan tipe data yang sesuai penting dalam pengembangan model machine learning karena dapat mempengaruhi kinerja dan penggunaan memori. Pada umumnya, penggunaan float32 adalah standar default, tetapi dalam beberapa kasus, penggunaan tipe data lainnya seperti float16 atau int8 dapat bermanfaat untuk mengoptimalkan performa dan penggunaan memori."
      ],
      "metadata": {
        "id": "3RKQ2DvCqsJc"
      }
    },
    {
      "cell_type": "code",
      "source": [
        "# Default datatype for tensors is float32\n",
        "float_32_tensor = torch.tensor([3.0, 6.0, 9.0],\n",
        "                               dtype=None, # defaults to None, which is torch.float32 or whatever datatype is passed\n",
        "                               device=None, # defaults to None, which uses the default tensor type\n",
        "                               requires_grad=False) # if True, operations performed on the tensor are recorded\n",
        "\n",
        "float_32_tensor.shape, float_32_tensor.dtype, float_32_tensor.device"
      ],
      "metadata": {
        "colab": {
          "base_uri": "https://localhost:8080/"
        },
        "id": "hzZ_ixYdqrCN",
        "outputId": "0fec47b9-7a36-4cfe-888b-f3e32393fefe"
      },
      "execution_count": 20,
      "outputs": [
        {
          "output_type": "execute_result",
          "data": {
            "text/plain": [
              "(torch.Size([3]), torch.float32, device(type='cpu'))"
            ]
          },
          "metadata": {},
          "execution_count": 20
        }
      ]
    },
    {
      "cell_type": "code",
      "source": [
        "float_16_tensor = torch.tensor([3.0, 6.0, 9.0],\n",
        "                               dtype=torch.float16) # torch.half would also work\n",
        "\n",
        "float_16_tensor.dtype"
      ],
      "metadata": {
        "colab": {
          "base_uri": "https://localhost:8080/"
        },
        "id": "Jdn4hNfrq-8E",
        "outputId": "84dae163-1d4c-4f24-b3c1-bb0f8e44176e"
      },
      "execution_count": 21,
      "outputs": [
        {
          "output_type": "execute_result",
          "data": {
            "text/plain": [
              "torch.float16"
            ]
          },
          "metadata": {},
          "execution_count": 21
        }
      ]
    },
    {
      "cell_type": "markdown",
      "source": [
        "**Getting Information From Tensors**"
      ],
      "metadata": {
        "id": "tt-bp35BrTwS"
      }
    },
    {
      "cell_type": "code",
      "source": [
        "# Create a tensor\n",
        "some_tensor = torch.rand(3, 4)\n",
        "\n",
        "# Find out details about it\n",
        "print(some_tensor)\n",
        "print(f\"Shape of tensor: {some_tensor.shape}\")\n",
        "print(f\"Datatype of tensor: {some_tensor.dtype}\")\n",
        "print(f\"Device tensor is stored on: {some_tensor.device}\") # will default to CPU"
      ],
      "metadata": {
        "colab": {
          "base_uri": "https://localhost:8080/"
        },
        "id": "Iv4-LqkvrJzr",
        "outputId": "36a06c1c-2f63-4f69-d80b-c7dea16c5640"
      },
      "execution_count": 22,
      "outputs": [
        {
          "output_type": "stream",
          "name": "stdout",
          "text": [
            "tensor([[0.3043, 0.3190, 0.5498, 0.4550],\n",
            "        [0.8087, 0.2128, 0.1406, 0.8739],\n",
            "        [0.6782, 0.4125, 0.5859, 0.7200]])\n",
            "Shape of tensor: torch.Size([3, 4])\n",
            "Datatype of tensor: torch.float32\n",
            "Device tensor is stored on: cpu\n"
          ]
        }
      ]
    },
    {
      "cell_type": "markdown",
      "source": [
        "***Manipulating Tensors (tensors operation) ***\n",
        "\n",
        "Pada dasarnya, dalam deep learning, data diwakili sebagai tensor, dan model belajar dengan menyelidiki tensor tersebut melalui serangkaian operasi, yang sering kali melibatkan operasi matematika dasar. Berikut adalah beberapa operasi matematika yang umum digunakan dalam deep learning:\n",
        "\n",
        "1. **Addition (Penambahan):**\n",
        "   - Menggabungkan nilai-nilai dua tensor pada posisi yang sesuai, elemen demi elemen.\n",
        "   - Contoh: `C = A + B` akan menghasilkan tensor `C` di mana setiap elemen `C[i, j] = A[i, j] + B[i, j]`.\n",
        "\n",
        "2. **Subtraction (Pengurangan):**\n",
        "   - Mengurangkan nilai-nilai satu tensor dari tensor lain pada posisi yang sesuai, elemen demi elemen.\n",
        "   - Contoh: `C = A - B` menghasilkan tensor `C` dengan setiap elemen `C[i, j] = A[i, j] - B[i, j]`.\n",
        "\n",
        "3. **Multiplication (Element-wise) (Perkalian Elemen):**\n",
        "   - Mengalikan nilai-nilai dua tensor pada posisi yang sesuai, elemen demi elemen.\n",
        "   - Contoh: `C = A * B` menghasilkan tensor `C` dengan setiap elemen `C[i, j] = A[i, j] * B[i, j]`.\n",
        "\n",
        "4. **Division (Pembagian):**\n",
        "   - Membagi nilai-nilai satu tensor dengan tensor lain pada posisi yang sesuai, elemen demi elemen.\n",
        "   - Contoh: `C = A / B` menghasilkan tensor `C` dengan setiap elemen `C[i, j] = A[i, j] / B[i, j]`.\n",
        "\n",
        "5. **Matrix Multiplication (Perkalian Matriks):**\n",
        "   - Mengalikan dua matriks untuk menghasilkan matriks baru.\n",
        "   - Contoh: `C = A @ B` atau `C = torch.matmul(A, B)` menghasilkan hasil perkalian matriks `C` dari matriks `A` dan `B`.\n",
        "\n",
        "Operasi-operasi ini membentuk dasar untuk transformasi dan representasi data dalam model deep learning. Matriks multiplication, khususnya, memiliki peran penting dalam menghubungkan layer-layer dalam jaringan saraf dan mengekstraksi fitur yang kompleks dari data.\n"
      ],
      "metadata": {
        "id": "wT-r3JpBrblI"
      }
    },
    {
      "cell_type": "markdown",
      "source": [
        "**Basic Operation**"
      ],
      "metadata": {
        "id": "zcM36sXvrwuc"
      }
    },
    {
      "cell_type": "code",
      "source": [
        "# Create a tensor of values and add a number to it\n",
        "tensor = torch.tensor([1, 2, 3])\n",
        "tensor + 10"
      ],
      "metadata": {
        "colab": {
          "base_uri": "https://localhost:8080/"
        },
        "id": "LPB6ASqXrXpD",
        "outputId": "c0cfe5ff-5c51-496f-f2f1-a752e6ea9f7e"
      },
      "execution_count": 23,
      "outputs": [
        {
          "output_type": "execute_result",
          "data": {
            "text/plain": [
              "tensor([11, 12, 13])"
            ]
          },
          "metadata": {},
          "execution_count": 23
        }
      ]
    },
    {
      "cell_type": "code",
      "source": [
        "# Multiply it by 10\n",
        "tensor * 10"
      ],
      "metadata": {
        "colab": {
          "base_uri": "https://localhost:8080/"
        },
        "id": "0Muo7RBUr1e0",
        "outputId": "9b7d5570-9a42-4144-89ab-98ee64a821c9"
      },
      "execution_count": 24,
      "outputs": [
        {
          "output_type": "execute_result",
          "data": {
            "text/plain": [
              "tensor([10, 20, 30])"
            ]
          },
          "metadata": {},
          "execution_count": 24
        }
      ]
    },
    {
      "cell_type": "code",
      "source": [
        "#Notice how the tensor values above didn't end up being tensor([110, 120, 130]), this is because the values inside the tensor don't change unless they're reassigned.\n",
        "# Tensors don't change unless reassigned\n",
        "tensor"
      ],
      "metadata": {
        "colab": {
          "base_uri": "https://localhost:8080/"
        },
        "id": "7dz6BpS0r3Il",
        "outputId": "851f247d-3554-4c32-ed77-3a3534f4cd84"
      },
      "execution_count": 25,
      "outputs": [
        {
          "output_type": "execute_result",
          "data": {
            "text/plain": [
              "tensor([1, 2, 3])"
            ]
          },
          "metadata": {},
          "execution_count": 25
        }
      ]
    },
    {
      "cell_type": "code",
      "source": [
        "# Subtract and reassign\n",
        "tensor = tensor - 10\n",
        "tensor"
      ],
      "metadata": {
        "colab": {
          "base_uri": "https://localhost:8080/"
        },
        "id": "i4XNtDGrsFPw",
        "outputId": "52a10573-2ff5-40f9-b2e3-5ade35c5467f"
      },
      "execution_count": 26,
      "outputs": [
        {
          "output_type": "execute_result",
          "data": {
            "text/plain": [
              "tensor([-9, -8, -7])"
            ]
          },
          "metadata": {},
          "execution_count": 26
        }
      ]
    },
    {
      "cell_type": "code",
      "source": [
        "# Add and reassign\n",
        "tensor = tensor + 10\n",
        "tensor"
      ],
      "metadata": {
        "colab": {
          "base_uri": "https://localhost:8080/"
        },
        "id": "9rAsIOU6sF9m",
        "outputId": "7e7f7425-0d40-4e9a-d0bc-6baa6a368446"
      },
      "execution_count": 27,
      "outputs": [
        {
          "output_type": "execute_result",
          "data": {
            "text/plain": [
              "tensor([1, 2, 3])"
            ]
          },
          "metadata": {},
          "execution_count": 27
        }
      ]
    },
    {
      "cell_type": "code",
      "source": [
        "#PyTorch also has a bunch of built-in functions like torch.mul() (short for multiplication) and torch.add() to perform basic operations.\n",
        "# Can also use torch functions\n",
        "torch.multiply(tensor, 10)"
      ],
      "metadata": {
        "colab": {
          "base_uri": "https://localhost:8080/"
        },
        "id": "1AcTgNx1sIN-",
        "outputId": "4d4e2fba-3797-4138-dccb-d34b60f6cc68"
      },
      "execution_count": 28,
      "outputs": [
        {
          "output_type": "execute_result",
          "data": {
            "text/plain": [
              "tensor([10, 20, 30])"
            ]
          },
          "metadata": {},
          "execution_count": 28
        }
      ]
    },
    {
      "cell_type": "code",
      "source": [
        "# Original tensor is still unchanged\n",
        "tensor"
      ],
      "metadata": {
        "colab": {
          "base_uri": "https://localhost:8080/"
        },
        "id": "LWhrEG-lsQXN",
        "outputId": "e045dace-88a3-4c81-a95e-c1c1a4308e70"
      },
      "execution_count": 29,
      "outputs": [
        {
          "output_type": "execute_result",
          "data": {
            "text/plain": [
              "tensor([1, 2, 3])"
            ]
          },
          "metadata": {},
          "execution_count": 29
        }
      ]
    },
    {
      "cell_type": "code",
      "source": [
        "# Element-wise multiplication (each element multiplies its equivalent, index 0->0, 1->1, 2->2)\n",
        "print(tensor, \"*\", tensor)\n",
        "print(\"Equals:\", tensor * tensor)"
      ],
      "metadata": {
        "colab": {
          "base_uri": "https://localhost:8080/"
        },
        "id": "NXRc0nMMsRWc",
        "outputId": "85dc5e8c-8b34-4985-cc86-28664fc30379"
      },
      "execution_count": 30,
      "outputs": [
        {
          "output_type": "stream",
          "name": "stdout",
          "text": [
            "tensor([1, 2, 3]) * tensor([1, 2, 3])\n",
            "Equals: tensor([1, 4, 9])\n"
          ]
        }
      ]
    },
    {
      "cell_type": "markdown",
      "source": [
        "**Matrix Multiplication**"
      ],
      "metadata": {
        "id": "UjmVA_S0sVtP"
      }
    },
    {
      "cell_type": "code",
      "source": [
        "import torch\n",
        "tensor = torch.tensor([1, 2, 3])\n",
        "tensor.shape"
      ],
      "metadata": {
        "colab": {
          "base_uri": "https://localhost:8080/"
        },
        "id": "sSmZp_-fsT2l",
        "outputId": "540765a6-5370-46fd-e371-455b68b1fc37"
      },
      "execution_count": 31,
      "outputs": [
        {
          "output_type": "execute_result",
          "data": {
            "text/plain": [
              "torch.Size([3])"
            ]
          },
          "metadata": {},
          "execution_count": 31
        }
      ]
    },
    {
      "cell_type": "code",
      "source": [
        "# Element-wise matrix multiplication\n",
        "tensor * tensor"
      ],
      "metadata": {
        "colab": {
          "base_uri": "https://localhost:8080/"
        },
        "id": "R-rKx6IdscVV",
        "outputId": "045d81c2-49bf-4a31-a620-dd34a64e7bdb"
      },
      "execution_count": 32,
      "outputs": [
        {
          "output_type": "execute_result",
          "data": {
            "text/plain": [
              "tensor([1, 4, 9])"
            ]
          },
          "metadata": {},
          "execution_count": 32
        }
      ]
    },
    {
      "cell_type": "code",
      "source": [
        "# Matrix multiplication\n",
        "torch.matmul(tensor, tensor)"
      ],
      "metadata": {
        "colab": {
          "base_uri": "https://localhost:8080/"
        },
        "id": "4tnjAAYUse64",
        "outputId": "206e0aa3-7a32-49bf-8608-a31bb65b1f88"
      },
      "execution_count": 33,
      "outputs": [
        {
          "output_type": "execute_result",
          "data": {
            "text/plain": [
              "tensor(14)"
            ]
          },
          "metadata": {},
          "execution_count": 33
        }
      ]
    },
    {
      "cell_type": "code",
      "source": [
        "# Can also use the \"@\" symbol for matrix multiplication, though not recommended\n",
        "tensor @ tensor"
      ],
      "metadata": {
        "colab": {
          "base_uri": "https://localhost:8080/"
        },
        "id": "AdVZf9CJsg3q",
        "outputId": "e008653d-18fb-4009-dd4e-c336456dd75b"
      },
      "execution_count": 34,
      "outputs": [
        {
          "output_type": "execute_result",
          "data": {
            "text/plain": [
              "tensor(14)"
            ]
          },
          "metadata": {},
          "execution_count": 34
        }
      ]
    },
    {
      "cell_type": "code",
      "source": [
        "%%time\n",
        "# Matrix multiplication by hand\n",
        "# (avoid doing operations with for loops at all cost, they are computationally expensive)\n",
        "value = 0\n",
        "for i in range(len(tensor)):\n",
        "  value += tensor[i] * tensor[i]\n",
        "value"
      ],
      "metadata": {
        "colab": {
          "base_uri": "https://localhost:8080/"
        },
        "id": "9sma3Ixpslps",
        "outputId": "9c2f7908-0088-486e-eff4-c0791b6dd37d"
      },
      "execution_count": 35,
      "outputs": [
        {
          "output_type": "stream",
          "name": "stdout",
          "text": [
            "CPU times: user 588 µs, sys: 0 ns, total: 588 µs\n",
            "Wall time: 5.59 ms\n"
          ]
        },
        {
          "output_type": "execute_result",
          "data": {
            "text/plain": [
              "tensor(14)"
            ]
          },
          "metadata": {},
          "execution_count": 35
        }
      ]
    },
    {
      "cell_type": "code",
      "source": [
        "%%time\n",
        "torch.matmul(tensor, tensor)"
      ],
      "metadata": {
        "colab": {
          "base_uri": "https://localhost:8080/"
        },
        "id": "9xfY3QhEsqnn",
        "outputId": "30b8c7b7-7c7a-47c5-e117-101503a8bab0"
      },
      "execution_count": 36,
      "outputs": [
        {
          "output_type": "stream",
          "name": "stdout",
          "text": [
            "CPU times: user 87 µs, sys: 0 ns, total: 87 µs\n",
            "Wall time: 91.1 µs\n"
          ]
        },
        {
          "output_type": "execute_result",
          "data": {
            "text/plain": [
              "tensor(14)"
            ]
          },
          "metadata": {},
          "execution_count": 36
        }
      ]
    },
    {
      "cell_type": "markdown",
      "source": [
        "**One of the most common errors in deep learning (shape errors)**"
      ],
      "metadata": {
        "id": "v7-jwcTFsveg"
      }
    },
    {
      "cell_type": "code",
      "source": [
        "#Because much of deep learning is multiplying and performing operations on matrices and matrices have a strict rule about what shapes and sizes can be combined, one of the most common errors you'll run into in deep learning is shape mismatches.\n",
        "# Shapes need to be in the right way\n",
        "tensor_A = torch.tensor([[1, 2],\n",
        "                         [3, 4],\n",
        "                         [5, 6]], dtype=torch.float32)\n",
        "\n",
        "tensor_B = torch.tensor([[7, 10],\n",
        "                         [8, 11],\n",
        "                         [9, 12]], dtype=torch.float32)\n",
        "\n",
        "torch.matmul(tensor_A, tensor_B) # (this will error)"
      ],
      "metadata": {
        "colab": {
          "base_uri": "https://localhost:8080/",
          "height": 210
        },
        "id": "Sh87NCzkssAz",
        "outputId": "d5d272b3-2e48-4b5b-fe4c-0a7b761fe682"
      },
      "execution_count": 38,
      "outputs": [
        {
          "output_type": "error",
          "ename": "RuntimeError",
          "evalue": "ignored",
          "traceback": [
            "\u001b[0;31m---------------------------------------------------------------------------\u001b[0m",
            "\u001b[0;31mRuntimeError\u001b[0m                              Traceback (most recent call last)",
            "\u001b[0;32m<ipython-input-38-2f72082b6a35>\u001b[0m in \u001b[0;36m<cell line: 11>\u001b[0;34m()\u001b[0m\n\u001b[1;32m      9\u001b[0m                          [9, 12]], dtype=torch.float32)\n\u001b[1;32m     10\u001b[0m \u001b[0;34m\u001b[0m\u001b[0m\n\u001b[0;32m---> 11\u001b[0;31m \u001b[0mtorch\u001b[0m\u001b[0;34m.\u001b[0m\u001b[0mmatmul\u001b[0m\u001b[0;34m(\u001b[0m\u001b[0mtensor_A\u001b[0m\u001b[0;34m,\u001b[0m \u001b[0mtensor_B\u001b[0m\u001b[0;34m)\u001b[0m \u001b[0;31m# (this will error)\u001b[0m\u001b[0;34m\u001b[0m\u001b[0;34m\u001b[0m\u001b[0m\n\u001b[0m",
            "\u001b[0;31mRuntimeError\u001b[0m: mat1 and mat2 shapes cannot be multiplied (3x2 and 3x2)"
          ]
        }
      ]
    },
    {
      "cell_type": "markdown",
      "source": [
        " Untuk membuat perkalian matriks berhasil antara tensor_A dan tensor_B, dimensi dalam tensor tersebut harus sesuai (inner dimensions harus sama). Salah satu cara untuk mencapai hal ini adalah dengan melakukan operasi transpose, yang mengubah dimensi-dimensi tensor.\n",
        "\n",
        "Dalam PyTorch, Anda dapat melakukan transpose menggunakan salah satu dari dua metode:\n",
        "\n",
        "1. **torch.transpose(input, dim0, dim1):**\n",
        "   - Fungsi ini mentranspose tensor `input` dengan menukar dimensi `dim0` dan `dim1`.\n",
        "   - Contoh: `C = torch.transpose(A, 0, 1)` akan mentranspose tensor `A`, menukar dimensi pertama dan kedua.\n",
        "\n",
        "2. **tensor.T:**\n",
        "   - Menghasilkan transpose dari tensor `tensor`.\n",
        "   - Contoh: `C = A.T` akan menghasilkan transpose dari tensor `A`.\n",
        "\n"
      ],
      "metadata": {
        "id": "dsrGy9AixbgN"
      }
    },
    {
      "cell_type": "code",
      "source": [
        "# View tensor_A and tensor_B\n",
        "print(tensor_A)\n",
        "print(tensor_B)"
      ],
      "metadata": {
        "colab": {
          "base_uri": "https://localhost:8080/"
        },
        "id": "FGmAzx1VxMuZ",
        "outputId": "7aa8ae64-b2a4-45c4-8e6e-f67c276f5885"
      },
      "execution_count": 39,
      "outputs": [
        {
          "output_type": "stream",
          "name": "stdout",
          "text": [
            "tensor([[1., 2.],\n",
            "        [3., 4.],\n",
            "        [5., 6.]])\n",
            "tensor([[ 7., 10.],\n",
            "        [ 8., 11.],\n",
            "        [ 9., 12.]])\n"
          ]
        }
      ]
    },
    {
      "cell_type": "code",
      "source": [
        "# View tensor_A and tensor_B.T\n",
        "print(tensor_A)\n",
        "print(tensor_B.T)"
      ],
      "metadata": {
        "colab": {
          "base_uri": "https://localhost:8080/"
        },
        "id": "Z1H3x8xPxiUf",
        "outputId": "0bb92f6c-d4ac-439c-a506-2390e1b06984"
      },
      "execution_count": 40,
      "outputs": [
        {
          "output_type": "stream",
          "name": "stdout",
          "text": [
            "tensor([[1., 2.],\n",
            "        [3., 4.],\n",
            "        [5., 6.]])\n",
            "tensor([[ 7.,  8.,  9.],\n",
            "        [10., 11., 12.]])\n"
          ]
        }
      ]
    },
    {
      "cell_type": "code",
      "source": [
        "# The operation works when tensor_B is transposed\n",
        "print(f\"Original shapes: tensor_A = {tensor_A.shape}, tensor_B = {tensor_B.shape}\\n\")\n",
        "print(f\"New shapes: tensor_A = {tensor_A.shape} (same as above), tensor_B.T = {tensor_B.T.shape}\\n\")\n",
        "print(f\"Multiplying: {tensor_A.shape} * {tensor_B.T.shape} <- inner dimensions match\\n\")\n",
        "print(\"Output:\\n\")\n",
        "output = torch.matmul(tensor_A, tensor_B.T)\n",
        "print(output)\n",
        "print(f\"\\nOutput shape: {output.shape}\")"
      ],
      "metadata": {
        "colab": {
          "base_uri": "https://localhost:8080/"
        },
        "id": "M0nMXzLoxjea",
        "outputId": "2d50a6f4-a8b6-47aa-a7a2-880153aa0fb9"
      },
      "execution_count": 41,
      "outputs": [
        {
          "output_type": "stream",
          "name": "stdout",
          "text": [
            "Original shapes: tensor_A = torch.Size([3, 2]), tensor_B = torch.Size([3, 2])\n",
            "\n",
            "New shapes: tensor_A = torch.Size([3, 2]) (same as above), tensor_B.T = torch.Size([2, 3])\n",
            "\n",
            "Multiplying: torch.Size([3, 2]) * torch.Size([2, 3]) <- inner dimensions match\n",
            "\n",
            "Output:\n",
            "\n",
            "tensor([[ 27.,  30.,  33.],\n",
            "        [ 61.,  68.,  75.],\n",
            "        [ 95., 106., 117.]])\n",
            "\n",
            "Output shape: torch.Size([3, 3])\n"
          ]
        }
      ]
    },
    {
      "cell_type": "code",
      "source": [
        "#You can also use torch.mm() which is a short for torch.matmul().\n",
        "# torch.mm is a shortcut for matmul\n",
        "torch.mm(tensor_A, tensor_B.T)"
      ],
      "metadata": {
        "colab": {
          "base_uri": "https://localhost:8080/"
        },
        "id": "fS_crQYJxlZd",
        "outputId": "c2fbae3e-5482-4d8f-fded-d4d90c4e743a"
      },
      "execution_count": 42,
      "outputs": [
        {
          "output_type": "execute_result",
          "data": {
            "text/plain": [
              "tensor([[ 27.,  30.,  33.],\n",
              "        [ 61.,  68.,  75.],\n",
              "        [ 95., 106., 117.]])"
            ]
          },
          "metadata": {},
          "execution_count": 42
        }
      ]
    },
    {
      "cell_type": "code",
      "source": [
        "# Since the linear layer starts with a random weights matrix, let's make it reproducible (more on this later)\n",
        "torch.manual_seed(42)\n",
        "# This uses matrix multiplication\n",
        "linear = torch.nn.Linear(in_features=2, # in_features = matches inner dimension of input\n",
        "                         out_features=6) # out_features = describes outer value\n",
        "x = tensor_A\n",
        "output = linear(x)\n",
        "print(f\"Input shape: {x.shape}\\n\")\n",
        "print(f\"Output:\\n{output}\\n\\nOutput shape: {output.shape}\")"
      ],
      "metadata": {
        "colab": {
          "base_uri": "https://localhost:8080/"
        },
        "id": "ggfO4UVPxq3j",
        "outputId": "f6987bea-2011-4715-f80b-bd0c2db804b5"
      },
      "execution_count": 43,
      "outputs": [
        {
          "output_type": "stream",
          "name": "stdout",
          "text": [
            "Input shape: torch.Size([3, 2])\n",
            "\n",
            "Output:\n",
            "tensor([[2.2368, 1.2292, 0.4714, 0.3864, 0.1309, 0.9838],\n",
            "        [4.4919, 2.1970, 0.4469, 0.5285, 0.3401, 2.4777],\n",
            "        [6.7469, 3.1648, 0.4224, 0.6705, 0.5493, 3.9716]],\n",
            "       grad_fn=<AddmmBackward0>)\n",
            "\n",
            "Output shape: torch.Size([3, 6])\n"
          ]
        }
      ]
    },
    {
      "cell_type": "markdown",
      "source": [
        "**Finding the min, max, mean, sum, etc (aggregation)**"
      ],
      "metadata": {
        "id": "3RkcFUgmyRiy"
      }
    },
    {
      "cell_type": "code",
      "source": [
        "# Create a tensor\n",
        "x = torch.arange(0, 100, 10)\n",
        "x"
      ],
      "metadata": {
        "colab": {
          "base_uri": "https://localhost:8080/"
        },
        "id": "PzVZssigyC0P",
        "outputId": "f58727a9-c030-41d1-c324-d324a34afa12"
      },
      "execution_count": 44,
      "outputs": [
        {
          "output_type": "execute_result",
          "data": {
            "text/plain": [
              "tensor([ 0, 10, 20, 30, 40, 50, 60, 70, 80, 90])"
            ]
          },
          "metadata": {},
          "execution_count": 44
        }
      ]
    },
    {
      "cell_type": "code",
      "source": [
        "print(f\"Minimum: {x.min()}\")\n",
        "print(f\"Maximum: {x.max()}\")\n",
        "# print(f\"Mean: {x.mean()}\") # this will error\n",
        "print(f\"Mean: {x.type(torch.float32).mean()}\") # won't work without float datatype\n",
        "print(f\"Sum: {x.sum()}\")"
      ],
      "metadata": {
        "colab": {
          "base_uri": "https://localhost:8080/"
        },
        "id": "4FtkvGj8yWRQ",
        "outputId": "0b593ff8-e0a2-4813-84e9-33053fe125c6"
      },
      "execution_count": 45,
      "outputs": [
        {
          "output_type": "stream",
          "name": "stdout",
          "text": [
            "Minimum: 0\n",
            "Maximum: 90\n",
            "Mean: 45.0\n",
            "Sum: 450\n"
          ]
        }
      ]
    },
    {
      "cell_type": "code",
      "source": [
        "#You can also do the same as above with torch methods.\n",
        "torch.max(x), torch.min(x), torch.mean(x.type(torch.float32)), torch.sum(x)"
      ],
      "metadata": {
        "colab": {
          "base_uri": "https://localhost:8080/"
        },
        "id": "De5VFRhVyYCk",
        "outputId": "ee7b78c2-9773-4155-ba86-746ed0a605d7"
      },
      "execution_count": 46,
      "outputs": [
        {
          "output_type": "execute_result",
          "data": {
            "text/plain": [
              "(tensor(90), tensor(0), tensor(45.), tensor(450))"
            ]
          },
          "metadata": {},
          "execution_count": 46
        }
      ]
    },
    {
      "cell_type": "markdown",
      "source": [
        "**Positional min/max**"
      ],
      "metadata": {
        "id": "5fRypt8fyg8U"
      }
    },
    {
      "cell_type": "code",
      "source": [
        "# Create a tensor\n",
        "tensor = torch.arange(10, 100, 10)\n",
        "print(f\"Tensor: {tensor}\")\n",
        "\n",
        "# Returns index of max and min values\n",
        "print(f\"Index where max value occurs: {tensor.argmax()}\")\n",
        "print(f\"Index where min value occurs: {tensor.argmin()}\")"
      ],
      "metadata": {
        "colab": {
          "base_uri": "https://localhost:8080/"
        },
        "id": "s7fkKKbjycut",
        "outputId": "c57c6617-f9e5-433b-a8d1-779ca438d5f3"
      },
      "execution_count": 47,
      "outputs": [
        {
          "output_type": "stream",
          "name": "stdout",
          "text": [
            "Tensor: tensor([10, 20, 30, 40, 50, 60, 70, 80, 90])\n",
            "Index where max value occurs: 8\n",
            "Index where min value occurs: 0\n"
          ]
        }
      ]
    },
    {
      "cell_type": "markdown",
      "source": [
        "**Change tensor datatype**"
      ],
      "metadata": {
        "id": "PsDCPjpBy0_d"
      }
    },
    {
      "cell_type": "code",
      "source": [
        "# Create a tensor and check its datatype\n",
        "tensor = torch.arange(10., 100., 10.)\n",
        "tensor.dtype"
      ],
      "metadata": {
        "colab": {
          "base_uri": "https://localhost:8080/"
        },
        "id": "2KKaGbUEypYu",
        "outputId": "b98916fd-d158-4d7f-abef-8286a088ff89"
      },
      "execution_count": 48,
      "outputs": [
        {
          "output_type": "execute_result",
          "data": {
            "text/plain": [
              "torch.float32"
            ]
          },
          "metadata": {},
          "execution_count": 48
        }
      ]
    },
    {
      "cell_type": "code",
      "source": [
        "# Now we'll create another tensor the same as before but change its datatype to torch.float16.\n",
        "# Create a float16 tensor\n",
        "tensor_float16 = tensor.type(torch.float16)\n",
        "tensor_float16"
      ],
      "metadata": {
        "colab": {
          "base_uri": "https://localhost:8080/"
        },
        "id": "Nh25BmDty51Y",
        "outputId": "31c6ec35-d9be-4629-af5a-2bbfb0526dda"
      },
      "execution_count": 49,
      "outputs": [
        {
          "output_type": "execute_result",
          "data": {
            "text/plain": [
              "tensor([10., 20., 30., 40., 50., 60., 70., 80., 90.], dtype=torch.float16)"
            ]
          },
          "metadata": {},
          "execution_count": 49
        }
      ]
    },
    {
      "cell_type": "code",
      "source": [
        "# And we can do something similar to make a torch.int8 tensor.\n",
        "# Create a int8 tensor\n",
        "tensor_int8 = tensor.type(torch.int8)\n",
        "tensor_int8"
      ],
      "metadata": {
        "colab": {
          "base_uri": "https://localhost:8080/"
        },
        "id": "FU6F2iR9zQTX",
        "outputId": "bc2d9dba-48f1-4758-99f8-b86f104e174b"
      },
      "execution_count": 50,
      "outputs": [
        {
          "output_type": "execute_result",
          "data": {
            "text/plain": [
              "tensor([10, 20, 30, 40, 50, 60, 70, 80, 90], dtype=torch.int8)"
            ]
          },
          "metadata": {},
          "execution_count": 50
        }
      ]
    },
    {
      "cell_type": "markdown",
      "source": [
        "**Reshaping, stacking, squeezing and unsqueezing**\n",
        "\n",
        "1. **`torch.reshape(input, shape)` atau `torch.Tensor.reshape(shape)`:**\n",
        "   - Mengubah bentuk tensor `input` menjadi bentuk yang ditentukan oleh parameter `shape`.\n",
        "   - Contoh: `B = torch.reshape(A, (3, 4))` mengubah bentuk tensor `A` menjadi matriks 3x4.\n",
        "\n",
        "2. **`Tensor.view(shape)`:**\n",
        "   - Mengembalikan pandangan (view) dari tensor asli dengan bentuk yang berbeda, tetapi berbagi data yang sama dengan tensor asli.\n",
        "   - Contoh: `B = A.view(3, 4)` menghasilkan view dari tensor `A` dengan bentuk matriks 3x4.\n",
        "\n",
        "3. **`torch.stack(tensors, dim=0)`:**\n",
        "   - Menggabungkan sekuens tensor sepanjang dimensi baru (dim), dengan syarat semua tensor harus memiliki ukuran yang sama.\n",
        "   - Contoh: `C = torch.stack([A, B])` menggabungkan tensor A dan B sepanjang dimensi baru (stack).\n",
        "\n",
        "4. **`torch.squeeze(input)`:**\n",
        "   - Menghapus dimensi yang memiliki nilai 1 dari tensor input.\n",
        "   - Contoh: `B = torch.squeeze(A)` menghilangkan dimensi yang memiliki panjang 1 dari tensor A.\n",
        "\n",
        "5. **`torch.unsqueeze(input, dim)`:**\n",
        "   - Menambah dimensi dengan nilai 1 pada posisi yang ditentukan oleh parameter `dim`.\n",
        "   - Contoh: `B = torch.unsqueeze(A, 1)` menambah dimensi dengan nilai 1 pada posisi kedua pada tensor A.\n",
        "\n",
        "6. **`torch.permute(input, dims)`:**\n",
        "   - Menghasilkan pandangan dari input dengan dimensinya yang diurutkan (rearranged) sesuai dengan urutan yang ditentukan oleh `dims`.\n",
        "   - Contoh: `B = torch.permute(A, (1, 0))` menukar dimensi pertama dan kedua pada tensor A.\n",
        "\n",
        "Mengapa kita membutuhkan metode-metode ini? Karena dalam model deep learning (neural networks), manipulasi tensor adalah kunci, dan aturan perkalian matriks memerlukan kesesuaian bentuk tensor. Jika terdapat ketidakcocokan bentuk, kita dapat mengalami kesalahan. Metode-metode ini membantu memastikan bahwa elemen-elemen yang benar dari tensor kita bersatu dengan elemen-elemen yang benar dari tensor lainnya. Dengan kata lain, metode-metode ini membantu menjaga konsistensi bentuk tensor, memungkinkan operasi matematis dan perkalian matriks berjalan dengan benar dalam model deep learning.\n"
      ],
      "metadata": {
        "id": "YtFUTt2Fzelx"
      }
    },
    {
      "cell_type": "code",
      "source": [
        "# Create a tensor\n",
        "import torch\n",
        "x = torch.arange(1., 8.)\n",
        "x, x.shape"
      ],
      "metadata": {
        "colab": {
          "base_uri": "https://localhost:8080/"
        },
        "id": "SZb69kbUzVj8",
        "outputId": "c719332f-039a-4ed2-974e-192a4b962a71"
      },
      "execution_count": 51,
      "outputs": [
        {
          "output_type": "execute_result",
          "data": {
            "text/plain": [
              "(tensor([1., 2., 3., 4., 5., 6., 7.]), torch.Size([7]))"
            ]
          },
          "metadata": {},
          "execution_count": 51
        }
      ]
    },
    {
      "cell_type": "code",
      "source": [
        "# Now let's add an extra dimension with torch.reshape().\n",
        "# Add an extra dimension\n",
        "x_reshaped = x.reshape(1, 7)\n",
        "x_reshaped, x_reshaped.shape"
      ],
      "metadata": {
        "colab": {
          "base_uri": "https://localhost:8080/"
        },
        "id": "vWcS1jzzzyU6",
        "outputId": "d8d64e92-0ab0-4159-f405-0740e530a058"
      },
      "execution_count": 52,
      "outputs": [
        {
          "output_type": "execute_result",
          "data": {
            "text/plain": [
              "(tensor([[1., 2., 3., 4., 5., 6., 7.]]), torch.Size([1, 7]))"
            ]
          },
          "metadata": {},
          "execution_count": 52
        }
      ]
    },
    {
      "cell_type": "code",
      "source": [
        "#  We can also change the view with torch.view().\n",
        "# Change view (keeps same data as original but changes view)\n",
        "# See more: https://stackoverflow.com/a/54507446/7900723\n",
        "z = x.view(1, 7)\n",
        "z, z.shape"
      ],
      "metadata": {
        "colab": {
          "base_uri": "https://localhost:8080/"
        },
        "id": "DKM72E25z1bz",
        "outputId": "202663a8-13a4-47a1-83c7-1594860607ff"
      },
      "execution_count": 54,
      "outputs": [
        {
          "output_type": "execute_result",
          "data": {
            "text/plain": [
              "(tensor([[1., 2., 3., 4., 5., 6., 7.]]), torch.Size([1, 7]))"
            ]
          },
          "metadata": {},
          "execution_count": 54
        }
      ]
    },
    {
      "cell_type": "code",
      "source": [
        "# Changing z changes x\n",
        "z[:, 0] = 5\n",
        "z, x"
      ],
      "metadata": {
        "colab": {
          "base_uri": "https://localhost:8080/"
        },
        "id": "AtkJ1bS5z4tk",
        "outputId": "151111c5-22e6-454b-9995-c9ddc75a7f6c"
      },
      "execution_count": 55,
      "outputs": [
        {
          "output_type": "execute_result",
          "data": {
            "text/plain": [
              "(tensor([[5., 2., 3., 4., 5., 6., 7.]]), tensor([5., 2., 3., 4., 5., 6., 7.]))"
            ]
          },
          "metadata": {},
          "execution_count": 55
        }
      ]
    },
    {
      "cell_type": "code",
      "source": [
        "# Stack tensors on top of each other\n",
        "x_stacked = torch.stack([x, x, x, x], dim=0) # try changing dim to dim=1 and see what happens\n",
        "x_stacked"
      ],
      "metadata": {
        "colab": {
          "base_uri": "https://localhost:8080/"
        },
        "id": "2z4E6a0z0Zxt",
        "outputId": "5fdb003e-b54e-4ac5-b3ad-25d03e0dcc6c"
      },
      "execution_count": 56,
      "outputs": [
        {
          "output_type": "execute_result",
          "data": {
            "text/plain": [
              "tensor([[5., 2., 3., 4., 5., 6., 7.],\n",
              "        [5., 2., 3., 4., 5., 6., 7.],\n",
              "        [5., 2., 3., 4., 5., 6., 7.],\n",
              "        [5., 2., 3., 4., 5., 6., 7.]])"
            ]
          },
          "metadata": {},
          "execution_count": 56
        }
      ]
    },
    {
      "cell_type": "code",
      "source": [
        "print(f\"Previous tensor: {x_reshaped}\")\n",
        "print(f\"Previous shape: {x_reshaped.shape}\")\n",
        "\n",
        "# Remove extra dimension from x_reshaped\n",
        "x_squeezed = x_reshaped.squeeze()\n",
        "print(f\"\\nNew tensor: {x_squeezed}\")\n",
        "print(f\"New shape: {x_squeezed.shape}\")"
      ],
      "metadata": {
        "colab": {
          "base_uri": "https://localhost:8080/"
        },
        "id": "TeJXr3Bh0aJe",
        "outputId": "59d50c8b-ca0a-4710-f300-1277c78cbc3d"
      },
      "execution_count": 57,
      "outputs": [
        {
          "output_type": "stream",
          "name": "stdout",
          "text": [
            "Previous tensor: tensor([[5., 2., 3., 4., 5., 6., 7.]])\n",
            "Previous shape: torch.Size([1, 7])\n",
            "\n",
            "New tensor: tensor([5., 2., 3., 4., 5., 6., 7.])\n",
            "New shape: torch.Size([7])\n"
          ]
        }
      ]
    },
    {
      "cell_type": "markdown",
      "source": [
        "Kode ini mencakup operasi pada tensor PyTorch untuk mengubah bentuk dan menghilangkan dimensi yang tidak diperlukan. Mari kita jelaskan langkah-langkahnya:\n",
        "\n",
        "```python\n",
        "# Menampilkan tensor sebelum perubahan bentuk\n",
        "print(f\"Previous tensor: {x_reshaped}\")\n",
        "# Menampilkan bentuk (shape) tensor sebelum perubahan bentuk\n",
        "print(f\"Previous shape: {x_reshaped.shape}\")\n",
        "\n",
        "# Menghilangkan dimensi tambahan dari x_reshaped\n",
        "x_squeezed = x_reshaped.squeeze()\n",
        "\n",
        "# Menampilkan tensor setelah dimensi dihilangkan\n",
        "print(f\"\\nNew tensor: {x_squeezed}\")\n",
        "# Menampilkan bentuk (shape) tensor setelah dimensi dihilangkan\n",
        "print(f\"New shape: {x_squeezed.shape}\")\n",
        "```\n",
        "\n",
        "Penjelasan singkat:\n",
        "1. `print(f\"Previous tensor: {x_reshaped}\")`: Menampilkan nilai dari tensor sebelum perubahan bentuk.\n",
        "2. `print(f\"Previous shape: {x_reshaped.shape}\")`: Menampilkan bentuk (shape) tensor sebelum perubahan bentuk.\n",
        "3. `x_squeezed = x_reshaped.squeeze()`: Menghilangkan dimensi tambahan dari tensor `x_reshaped`. Jika ada dimensi yang memiliki panjang 1, dimensi tersebut akan dihapus.\n",
        "4. `print(f\"\\nNew tensor: {x_squeezed}\")`: Menampilkan nilai tensor setelah dimensi dihilangkan.\n",
        "5. `print(f\"New shape: {x_squeezed.shape}\")`: Menampilkan bentuk (shape) tensor setelah dimensi dihilangkan.\n",
        "\n",
        "Operasi `squeeze()` berguna ketika Anda ingin menghilangkan dimensi yang tidak perlu dan membuat tensor menjadi lebih \"rata\". Ini sering digunakan untuk mempersiapkan data sebelum dimasukkan ke dalam model deep learning atau dalam situasi di mana dimensi yang tidak diinginkan muncul selama manipulasi data."
      ],
      "metadata": {
        "id": "aEbHps010lDF"
      }
    },
    {
      "cell_type": "code",
      "source": [
        "print(f\"Previous tensor: {x_squeezed}\")\n",
        "print(f\"Previous shape: {x_squeezed.shape}\")\n",
        "\n",
        "## Add an extra dimension with unsqueeze\n",
        "x_unsqueezed = x_squeezed.unsqueeze(dim=0)\n",
        "print(f\"\\nNew tensor: {x_unsqueezed}\")\n",
        "print(f\"New shape: {x_unsqueezed.shape}\")"
      ],
      "metadata": {
        "id": "y_kf4eHs0f5C"
      },
      "execution_count": null,
      "outputs": []
    },
    {
      "cell_type": "markdown",
      "source": [
        "Kode ini mencakup operasi untuk menambahkan dimensi tambahan ke dalam tensor menggunakan metode `unsqueeze`. Berikut adalah penjelasan langkah-langkahnya:\n",
        "\n",
        "```python\n",
        "# Menampilkan tensor sebelum dimensi ditambahkan\n",
        "print(f\"Previous tensor: {x_squeezed}\")\n",
        "# Menampilkan bentuk (shape) tensor sebelum dimensi ditambahkan\n",
        "print(f\"Previous shape: {x_squeezed.shape}\")\n",
        "\n",
        "# Menambahkan dimensi tambahan ke x_squeezed\n",
        "x_unsqueezed = x_squeezed.unsqueeze(dim=0)\n",
        "\n",
        "# Menampilkan tensor setelah dimensi ditambahkan\n",
        "print(f\"\\nNew tensor: {x_unsqueezed}\")\n",
        "# Menampilkan bentuk (shape) tensor setelah dimensi ditambahkan\n",
        "print(f\"New shape: {x_unsqueezed.shape}\")\n",
        "```\n",
        "\n",
        "Penjelasan singkat:\n",
        "1. `print(f\"Previous tensor: {x_squeezed}\")`: Menampilkan nilai dari tensor sebelum dimensi ditambahkan.\n",
        "2. `print(f\"Previous shape: {x_squeezed.shape}\")`: Menampilkan bentuk (shape) tensor sebelum dimensi ditambahkan.\n",
        "3. `x_unsqueezed = x_squeezed.unsqueeze(dim=0)`: Menambahkan dimensi tambahan ke tensor `x_squeezed` pada posisi 0 (dimensi pertama).\n",
        "4. `print(f\"\\nNew tensor: {x_unsqueezed}\")`: Menampilkan nilai tensor setelah dimensi ditambahkan.\n",
        "5. `print(f\"New shape: {x_unsqueezed.shape}\")`: Menampilkan bentuk (shape) tensor setelah dimensi ditambahkan.\n",
        "\n",
        "Operasi `unsqueeze` berguna ketika Anda ingin menambahkan dimensi tambahan ke dalam tensor, misalnya, untuk menyesuaikan dengan kebutuhan model atau operasi tertentu dalam deep learning."
      ],
      "metadata": {
        "id": "hs1rLB2a0x67"
      }
    },
    {
      "cell_type": "code",
      "source": [
        "# Create tensor with specific shape\n",
        "x_original = torch.rand(size=(224, 224, 3))\n",
        "\n",
        "# Permute the original tensor to rearrange the axis order\n",
        "x_permuted = x_original.permute(2, 0, 1) # shifts axis 0->1, 1->2, 2->0\n",
        "\n",
        "print(f\"Previous shape: {x_original.shape}\")\n",
        "print(f\"New shape: {x_permuted.shape}\")"
      ],
      "metadata": {
        "colab": {
          "base_uri": "https://localhost:8080/"
        },
        "id": "JvknAoQT0yvH",
        "outputId": "1992bab8-f264-4e02-bf05-b3c0cbf6f2be"
      },
      "execution_count": 58,
      "outputs": [
        {
          "output_type": "stream",
          "name": "stdout",
          "text": [
            "Previous shape: torch.Size([224, 224, 3])\n",
            "New shape: torch.Size([3, 224, 224])\n"
          ]
        }
      ]
    },
    {
      "cell_type": "markdown",
      "source": [
        "Kode ini menciptakan tensor dengan bentuk (shape) awal tertentu menggunakan `torch.rand` dan kemudian merubah urutan sumbu (axis) tensor tersebut menggunakan metode `permute`. Berikut adalah penjelasan singkatnya:\n",
        "\n",
        "```python\n",
        "# Membuat tensor dengan bentuk (shape) tertentu\n",
        "x_original = torch.rand(size=(224, 224, 3))\n",
        "\n",
        "# Mengubah urutan sumbu tensor dengan metode permute\n",
        "x_permuted = x_original.permute(2, 0, 1)  # menggeser sumbu 0->1, 1->2, 2->0\n",
        "\n",
        "# Menampilkan bentuk (shape) sebelum dan setelah permutasi\n",
        "print(f\"Previous shape: {x_original.shape}\")\n",
        "print(f\"New shape: {x_permuted.shape}\")\n",
        "```\n",
        "\n",
        "Penjelasan singkat:\n",
        "1. `x_original = torch.rand(size=(224, 224, 3))`: Membuat tensor dengan bentuk (shape) 224x224x3, yang mewakili gambar dengan dimensi tinggi, lebar, dan saluran warna RGB.\n",
        "2. `x_permuted = x_original.permute(2, 0, 1)`: Menggunakan metode `permute` untuk mengubah urutan sumbu tensor. Dalam hal ini, sumbu ke-0 menjadi sumbu ke-1, sumbu ke-1 menjadi sumbu ke-2, dan sumbu ke-2 menjadi sumbu ke-0.\n",
        "3. `print(f\"Previous shape: {x_original.shape}\")`: Menampilkan bentuk (shape) tensor sebelum permutasi.\n",
        "4. `print(f\"New shape: {x_permuted.shape}\")`: Menampilkan bentuk (shape) tensor setelah permutasi.\n",
        "\n",
        "Operasi `permute` seringkali berguna dalam pengolahan citra dan penggunaan model deep learning di mana struktur sumbu tensor harus diubah untuk memenuhi kebutuhan tertentu. Dalam kasus ini, permutasi digunakan untuk mengganti urutan sumbu sehingga tensor lebih sesuai dengan format yang umum digunakan dalam jaringan saraf konvolusional (CNN)."
      ],
      "metadata": {
        "id": "GTdwIIC11CnG"
      }
    },
    {
      "cell_type": "markdown",
      "source": [
        "**Indexing Selecting Data From Tensor**"
      ],
      "metadata": {
        "id": "XsB9pEXj1Fa7"
      }
    },
    {
      "cell_type": "code",
      "source": [
        "# Create a tensor\n",
        "import torch\n",
        "x = torch.arange(1, 10).reshape(1, 3, 3)\n",
        "x, x.shape"
      ],
      "metadata": {
        "colab": {
          "base_uri": "https://localhost:8080/"
        },
        "id": "vKSK_0t103ir",
        "outputId": "ebd801cd-7221-4dd0-8270-bfb28e38edd9"
      },
      "execution_count": 59,
      "outputs": [
        {
          "output_type": "execute_result",
          "data": {
            "text/plain": [
              "(tensor([[[1, 2, 3],\n",
              "          [4, 5, 6],\n",
              "          [7, 8, 9]]]),\n",
              " torch.Size([1, 3, 3]))"
            ]
          },
          "metadata": {},
          "execution_count": 59
        }
      ]
    },
    {
      "cell_type": "code",
      "source": [
        "# Let's index bracket by bracket\n",
        "print(f\"First square bracket:\\n{x[0]}\")\n",
        "print(f\"Second square bracket: {x[0][0]}\")\n",
        "print(f\"Third square bracket: {x[0][0][0]}\")"
      ],
      "metadata": {
        "colab": {
          "base_uri": "https://localhost:8080/"
        },
        "id": "MUuJuZBe1N27",
        "outputId": "9cd8f1ff-4937-4aa2-9fe0-88d09b16d840"
      },
      "execution_count": 60,
      "outputs": [
        {
          "output_type": "stream",
          "name": "stdout",
          "text": [
            "First square bracket:\n",
            "tensor([[1, 2, 3],\n",
            "        [4, 5, 6],\n",
            "        [7, 8, 9]])\n",
            "Second square bracket: tensor([1, 2, 3])\n",
            "Third square bracket: 1\n"
          ]
        }
      ]
    },
    {
      "cell_type": "code",
      "source": [
        "# Get all values of 0th dimension and the 0 index of 1st dimension\n",
        "x[:, 0]"
      ],
      "metadata": {
        "colab": {
          "base_uri": "https://localhost:8080/"
        },
        "id": "viwRgeK41YLz",
        "outputId": "53a36398-8aa9-4d21-e379-d11adf3cbb62"
      },
      "execution_count": 61,
      "outputs": [
        {
          "output_type": "execute_result",
          "data": {
            "text/plain": [
              "tensor([[1, 2, 3]])"
            ]
          },
          "metadata": {},
          "execution_count": 61
        }
      ]
    },
    {
      "cell_type": "code",
      "source": [
        "# Get all values of 0th & 1st dimensions but only index 1 of 2nd dimension\n",
        "x[:, :, 1]"
      ],
      "metadata": {
        "colab": {
          "base_uri": "https://localhost:8080/"
        },
        "id": "XBmvqvJK1paM",
        "outputId": "b3d66a4c-bf4c-4474-cf4c-b35fd81f0489"
      },
      "execution_count": 62,
      "outputs": [
        {
          "output_type": "execute_result",
          "data": {
            "text/plain": [
              "tensor([[2, 5, 8]])"
            ]
          },
          "metadata": {},
          "execution_count": 62
        }
      ]
    },
    {
      "cell_type": "code",
      "source": [
        "# Get all values of the 0 dimension but only the 1 index value of the 1st and 2nd dimension\n",
        "x[:, 1, 1]"
      ],
      "metadata": {
        "colab": {
          "base_uri": "https://localhost:8080/"
        },
        "id": "IE6G_l961qBR",
        "outputId": "70e96726-734d-4cac-8d97-928d823d68bc"
      },
      "execution_count": 63,
      "outputs": [
        {
          "output_type": "execute_result",
          "data": {
            "text/plain": [
              "tensor([5])"
            ]
          },
          "metadata": {},
          "execution_count": 63
        }
      ]
    },
    {
      "cell_type": "code",
      "source": [
        "# Get index 0 of 0th and 1st dimension and all values of 2nd dimension\n",
        "x[0, 0, :] # same as x[0][0]"
      ],
      "metadata": {
        "colab": {
          "base_uri": "https://localhost:8080/"
        },
        "id": "JiX2UyOn1q6G",
        "outputId": "62296e6f-ceb2-480e-c5b5-5d9191904e52"
      },
      "execution_count": 64,
      "outputs": [
        {
          "output_type": "execute_result",
          "data": {
            "text/plain": [
              "tensor([1, 2, 3])"
            ]
          },
          "metadata": {},
          "execution_count": 64
        }
      ]
    },
    {
      "cell_type": "markdown",
      "source": [
        "**Pytorch tensors & NumPy**"
      ],
      "metadata": {
        "id": "BXvBGfWH1swI"
      }
    },
    {
      "cell_type": "code",
      "source": [
        "# NumPy array to tensor\n",
        "import torch\n",
        "import numpy as np\n",
        "array = np.arange(1.0, 8.0)\n",
        "tensor = torch.from_numpy(array)\n",
        "array, tensor"
      ],
      "metadata": {
        "colab": {
          "base_uri": "https://localhost:8080/"
        },
        "id": "BvRjXXV01rws",
        "outputId": "22cb9612-43ac-4d4f-ad4a-288f135b4ee1"
      },
      "execution_count": 65,
      "outputs": [
        {
          "output_type": "execute_result",
          "data": {
            "text/plain": [
              "(array([1., 2., 3., 4., 5., 6., 7.]),\n",
              " tensor([1., 2., 3., 4., 5., 6., 7.], dtype=torch.float64))"
            ]
          },
          "metadata": {},
          "execution_count": 65
        }
      ]
    },
    {
      "cell_type": "code",
      "source": [
        "# Change the array, keep the tensor\n",
        "array = array + 1\n",
        "array, tensor"
      ],
      "metadata": {
        "colab": {
          "base_uri": "https://localhost:8080/"
        },
        "id": "l8nFF93E10zY",
        "outputId": "826ea313-a12f-435a-86dc-c7e0b946ba98"
      },
      "execution_count": 66,
      "outputs": [
        {
          "output_type": "execute_result",
          "data": {
            "text/plain": [
              "(array([2., 3., 4., 5., 6., 7., 8.]),\n",
              " tensor([1., 2., 3., 4., 5., 6., 7.], dtype=torch.float64))"
            ]
          },
          "metadata": {},
          "execution_count": 66
        }
      ]
    },
    {
      "cell_type": "code",
      "source": [
        "# And if you want to go from PyTorch tensor to NumPy array, you can call tensor.numpy().\n",
        "# Tensor to NumPy array\n",
        "tensor = torch.ones(7) # create a tensor of ones with dtype=float32\n",
        "numpy_tensor = tensor.numpy() # will be dtype=float32 unless changed\n",
        "tensor, numpy_tensor"
      ],
      "metadata": {
        "colab": {
          "base_uri": "https://localhost:8080/"
        },
        "id": "9qGZdyFs2ChQ",
        "outputId": "c194fda9-b569-4571-e2af-a6ea8e2f2c58"
      },
      "execution_count": 67,
      "outputs": [
        {
          "output_type": "execute_result",
          "data": {
            "text/plain": [
              "(tensor([1., 1., 1., 1., 1., 1., 1.]),\n",
              " array([1., 1., 1., 1., 1., 1., 1.], dtype=float32))"
            ]
          },
          "metadata": {},
          "execution_count": 67
        }
      ]
    },
    {
      "cell_type": "code",
      "source": [
        "# And the same rule applies as above, if you change the original tensor, the new numpy_tensor stays the same.\n",
        "# Change the tensor, keep the array the same\n",
        "tensor = tensor + 1\n",
        "tensor, numpy_tensor"
      ],
      "metadata": {
        "colab": {
          "base_uri": "https://localhost:8080/"
        },
        "id": "lcwLehay2GcC",
        "outputId": "e092fa90-752d-404d-de76-524221b5c88a"
      },
      "execution_count": 68,
      "outputs": [
        {
          "output_type": "execute_result",
          "data": {
            "text/plain": [
              "(tensor([2., 2., 2., 2., 2., 2., 2.]),\n",
              " array([1., 1., 1., 1., 1., 1., 1.], dtype=float32))"
            ]
          },
          "metadata": {},
          "execution_count": 68
        }
      ]
    },
    {
      "cell_type": "markdown",
      "source": [
        "**Reproducibility (trying to take the random out of random)**\n",
        "\n",
        "1. **Pseudorandomness:** Randomness di komputer sebenarnya bersifat pseudorandom karena komputer pada dasarnya bersifat deterministik.\n",
        "2. **Peran Ketidakpastian dalam Neural Networks:** Neural networks memulai dengan angka-angka acak untuk menggambarkan pola dalam data dan berusaha meningkatkannya melalui operasi tensor.\n",
        "3. **Proses Iteratif Deep Learning:** Deep learning melibatkan iterasi berulang yang dimulai dengan angka-angka acak dan berlanjut dengan operasi tensor untuk meningkatkan representasi data.\n",
        "4. **Reproducibility dan Konsistensi:** Reproducibility penting agar eksperimen dapat diulang, dan hasil yang sama atau mirip dapat dicapai pada komputer yang berbeda dengan menjalankan kode yang sama.\n",
        "5. **Contoh Reproducibility dalam PyTorch:** Membuat dua tensor acak untuk menunjukkan keinginan mendapatkan hasil yang konsisten saat menjalankan kode yang sama.\n",
        "\n",
        "Pentingnya reproducibility adalah untuk memastikan konsistensi hasil dan memungkinkan verifikasi eksperimen oleh orang lain."
      ],
      "metadata": {
        "id": "rESBomjw2R3q"
      }
    },
    {
      "cell_type": "code",
      "source": [
        "import torch\n",
        "\n",
        "# Create two random tensors\n",
        "random_tensor_A = torch.rand(3, 4)\n",
        "random_tensor_B = torch.rand(3, 4)\n",
        "\n",
        "print(f\"Tensor A:\\n{random_tensor_A}\\n\")\n",
        "print(f\"Tensor B:\\n{random_tensor_B}\\n\")\n",
        "print(f\"Does Tensor A equal Tensor B? (anywhere)\")\n",
        "random_tensor_A == random_tensor_B"
      ],
      "metadata": {
        "colab": {
          "base_uri": "https://localhost:8080/"
        },
        "id": "qz8pw7ZP2LeW",
        "outputId": "9b5a77d3-8762-4661-e313-9f0e868d4c18"
      },
      "execution_count": 69,
      "outputs": [
        {
          "output_type": "stream",
          "name": "stdout",
          "text": [
            "Tensor A:\n",
            "tensor([[0.8016, 0.3649, 0.6286, 0.9663],\n",
            "        [0.7687, 0.4566, 0.5745, 0.9200],\n",
            "        [0.3230, 0.8613, 0.0919, 0.3102]])\n",
            "\n",
            "Tensor B:\n",
            "tensor([[0.9536, 0.6002, 0.0351, 0.6826],\n",
            "        [0.3743, 0.5220, 0.1336, 0.9666],\n",
            "        [0.9754, 0.8474, 0.8988, 0.1105]])\n",
            "\n",
            "Does Tensor A equal Tensor B? (anywhere)\n"
          ]
        },
        {
          "output_type": "execute_result",
          "data": {
            "text/plain": [
              "tensor([[False, False, False, False],\n",
              "        [False, False, False, False],\n",
              "        [False, False, False, False]])"
            ]
          },
          "metadata": {},
          "execution_count": 69
        }
      ]
    },
    {
      "cell_type": "markdown",
      "source": [
        "**Running tensors on GPUs (and making faster computations)**"
      ],
      "metadata": {
        "id": "y_GPw2DR2y15"
      }
    },
    {
      "cell_type": "code",
      "source": [
        "!nvidia-smi"
      ],
      "metadata": {
        "colab": {
          "base_uri": "https://localhost:8080/"
        },
        "id": "K5fMHokN2qPw",
        "outputId": "e40705b3-2d79-4180-8a5d-15734356b647"
      },
      "execution_count": 70,
      "outputs": [
        {
          "output_type": "stream",
          "name": "stdout",
          "text": [
            "/bin/bash: line 1: nvidia-smi: command not found\n"
          ]
        }
      ]
    },
    {
      "cell_type": "markdown",
      "source": [
        "Kode tersebut berguna untuk memeriksa apakah kita memiliki akses terhadap GPU Nvidia"
      ],
      "metadata": {
        "id": "H6zh9bKU3D5_"
      }
    },
    {
      "cell_type": "code",
      "source": [
        "# Check for GPU\n",
        "import torch\n",
        "torch.cuda.is_available()"
      ],
      "metadata": {
        "colab": {
          "base_uri": "https://localhost:8080/"
        },
        "id": "iexAJPnW23z8",
        "outputId": "1092b16b-49ef-43f8-aeeb-8511e29759f8"
      },
      "execution_count": 71,
      "outputs": [
        {
          "output_type": "execute_result",
          "data": {
            "text/plain": [
              "False"
            ]
          },
          "metadata": {},
          "execution_count": 71
        }
      ]
    },
    {
      "cell_type": "markdown",
      "source": [
        "Kode tersebut berguna untuk memriksa apakah pytorch memiliki akses kepada GPu"
      ],
      "metadata": {
        "id": "_iD9K07-3QXF"
      }
    },
    {
      "cell_type": "code",
      "source": [
        "# Set device type\n",
        "device = \"cuda\" if torch.cuda.is_available() else \"cpu\"\n",
        "device"
      ],
      "metadata": {
        "colab": {
          "base_uri": "https://localhost:8080/",
          "height": 35
        },
        "id": "wru2z1462_Ow",
        "outputId": "66c1fadf-f5e4-4e03-d610-d03e31f831d3"
      },
      "execution_count": 72,
      "outputs": [
        {
          "output_type": "execute_result",
          "data": {
            "text/plain": [
              "'cpu'"
            ],
            "application/vnd.google.colaboratory.intrinsic+json": {
              "type": "string"
            }
          },
          "metadata": {},
          "execution_count": 72
        }
      ]
    },
    {
      "cell_type": "markdown",
      "source": [
        "Kode tersebut menetapkan tipe perangkat yang akan digunakan (GPU atau CPU) berdasarkan ketersediaan GPU pada sistem. Berikut adalah penjelasan singkatnya:\n",
        "\n",
        "```python\n",
        "device = \"cuda\" if torch.cuda.is_available() else \"cpu\"\n",
        "```\n",
        "\n",
        "- `torch.cuda.is_available()`: Memeriksa apakah GPU (cuda) tersedia pada sistem.\n",
        "- `device = \"cuda\" if torch.cuda.is_available() else \"cpu\"`: Menetapkan nilai variabel `device` ke \"cuda\" jika GPU tersedia, dan ke \"cpu\" jika tidak.\n",
        "- `device`: Menampilkan tipe perangkat yang akan digunakan (cuda atau cpu).\n",
        "\n",
        "Dengan pendekatan ini, kode dapat berjalan pada GPU jika tersedia, dan jika tidak, akan beralih ke penggunaan CPU. Hal ini berguna untuk memastikan fleksibilitas dan ketersediaan kode pada berbagai konfigurasi perangkat keras."
      ],
      "metadata": {
        "id": "b-3vIT213fjB"
      }
    },
    {
      "cell_type": "code",
      "source": [
        "# Count number of devices\n",
        "torch.cuda.device_count()"
      ],
      "metadata": {
        "colab": {
          "base_uri": "https://localhost:8080/"
        },
        "id": "ToIWt2zA3aMw",
        "outputId": "7e57828e-7ad5-4012-8b1e-681eca061e09"
      },
      "execution_count": 73,
      "outputs": [
        {
          "output_type": "execute_result",
          "data": {
            "text/plain": [
              "0"
            ]
          },
          "metadata": {},
          "execution_count": 73
        }
      ]
    },
    {
      "cell_type": "markdown",
      "source": [
        "**Putting tensors (and models) on the GPU**"
      ],
      "metadata": {
        "id": "CdVmVKa-3nB9"
      }
    },
    {
      "cell_type": "code",
      "source": [
        "# Create tensor (default on CPU)\n",
        "tensor = torch.tensor([1, 2, 3])\n",
        "\n",
        "# Tensor not on GPU\n",
        "print(tensor, tensor.device)\n",
        "\n",
        "# Move tensor to GPU (if available)\n",
        "tensor_on_gpu = tensor.to(device)\n",
        "tensor_on_gpu"
      ],
      "metadata": {
        "colab": {
          "base_uri": "https://localhost:8080/"
        },
        "id": "U4MPK4-Y3ylk",
        "outputId": "2aa57eb1-e700-43ba-d26c-298b5f192180"
      },
      "execution_count": 74,
      "outputs": [
        {
          "output_type": "stream",
          "name": "stdout",
          "text": [
            "tensor([1, 2, 3]) cpu\n"
          ]
        },
        {
          "output_type": "execute_result",
          "data": {
            "text/plain": [
              "tensor([1, 2, 3])"
            ]
          },
          "metadata": {},
          "execution_count": 74
        }
      ]
    },
    {
      "cell_type": "markdown",
      "source": [
        "Kode ini menciptakan tensor di CPU dan kemudian memindahkannya ke GPU jika GPU tersedia. Berikut adalah penjelasan singkatnya:\n",
        "\n",
        "```python\n",
        "# Membuat tensor (default di CPU)\n",
        "tensor = torch.tensor([1, 2, 3])\n",
        "\n",
        "# Menampilkan tensor dan perangkat tempat tensor berada (CPU)\n",
        "print(tensor, tensor.device)\n",
        "\n",
        "# Memindahkan tensor ke GPU (jika tersedia)\n",
        "tensor_on_gpu = tensor.to(device)\n",
        "```\n",
        "\n",
        "- `tensor = torch.tensor([1, 2, 3])`: Menciptakan tensor di CPU dengan nilai [1, 2, 3].\n",
        "- `print(tensor, tensor.device)`: Menampilkan tensor dan perangkat tempat tensor berada (di CPU).\n",
        "- `tensor_on_gpu = tensor.to(device)`: Memindahkan tensor ke perangkat yang telah ditentukan sebelumnya (CPU atau GPU, sesuai ketersediaan).\n",
        "\n",
        "Dengan pendekatan ini, Anda dapat membuat tensor di CPU dan kemudian memindahkannya ke GPU jika diperlukan, memberikan fleksibilitas dalam penggunaan perangkat keras tanpa mengubah secara signifikan struktur kode."
      ],
      "metadata": {
        "id": "yjDGKtNb3-OO"
      }
    },
    {
      "cell_type": "markdown",
      "source": [
        "**Moving tensors back to the CPU**"
      ],
      "metadata": {
        "id": "hSzTLPsI4Any"
      }
    },
    {
      "cell_type": "code",
      "source": [
        "# If tensor is on GPU, can't transform it to NumPy (this will error)\n",
        "tensor_on_gpu.numpy()"
      ],
      "metadata": {
        "colab": {
          "base_uri": "https://localhost:8080/"
        },
        "id": "0W-sZUGo33Nn",
        "outputId": "954ead98-175b-48fe-e50b-73f45a273bc7"
      },
      "execution_count": 75,
      "outputs": [
        {
          "output_type": "execute_result",
          "data": {
            "text/plain": [
              "array([1, 2, 3])"
            ]
          },
          "metadata": {},
          "execution_count": 75
        }
      ]
    },
    {
      "cell_type": "markdown",
      "source": [
        "Kode ini pada dasarnya harusnya error. Disini tidak erro dikarenakan google colab yang saya gunakan saat ini tidak memiliki akses kepada GPU"
      ],
      "metadata": {
        "id": "e5sUMkoB4I3c"
      }
    },
    {
      "cell_type": "code",
      "source": [
        "# Instead, copy the tensor back to cpu\n",
        "tensor_back_on_cpu = tensor_on_gpu.cpu().numpy()\n",
        "tensor_back_on_cpu"
      ],
      "metadata": {
        "colab": {
          "base_uri": "https://localhost:8080/"
        },
        "id": "Df_QjFtQ4R1x",
        "outputId": "1a53a40f-9b7b-4bb9-d214-94e962d16a2b"
      },
      "execution_count": 76,
      "outputs": [
        {
          "output_type": "execute_result",
          "data": {
            "text/plain": [
              "array([1, 2, 3])"
            ]
          },
          "metadata": {},
          "execution_count": 76
        }
      ]
    },
    {
      "cell_type": "code",
      "source": [
        "tensor_on_gpu"
      ],
      "metadata": {
        "colab": {
          "base_uri": "https://localhost:8080/"
        },
        "id": "D7om9voZ4UTw",
        "outputId": "4e8f577f-b848-4667-d033-40732d677a14"
      },
      "execution_count": 77,
      "outputs": [
        {
          "output_type": "execute_result",
          "data": {
            "text/plain": [
              "tensor([1, 2, 3])"
            ]
          },
          "metadata": {},
          "execution_count": 77
        }
      ]
    }
  ]
}