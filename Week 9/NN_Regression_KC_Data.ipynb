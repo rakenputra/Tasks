{
  "nbformat": 4,
  "nbformat_minor": 0,
  "metadata": {
    "colab": {
      "provenance": [],
      "authorship_tag": "ABX9TyNDPG6z5Fm51dU+7siXxCrA",
      "include_colab_link": true
    },
    "kernelspec": {
      "name": "python3",
      "display_name": "Python 3"
    },
    "language_info": {
      "name": "python"
    }
  },
  "cells": [
    {
      "cell_type": "markdown",
      "metadata": {
        "id": "view-in-github",
        "colab_type": "text"
      },
      "source": [
        "<a href=\"https://colab.research.google.com/github/rakenputra/machine-learning/blob/main/Week%209/NN_Regression_KC_Data.ipynb\" target=\"_parent\"><img src=\"https://colab.research.google.com/assets/colab-badge.svg\" alt=\"Open In Colab\"/></a>"
      ]
    },
    {
      "cell_type": "code",
      "execution_count": 1,
      "metadata": {
        "colab": {
          "base_uri": "https://localhost:8080/"
        },
        "id": "-KZLQTxXiIBs",
        "outputId": "d303875d-37a2-48e9-db08-b073756f63fb"
      },
      "outputs": [
        {
          "output_type": "stream",
          "name": "stdout",
          "text": [
            "Mounted at /content/drive\n"
          ]
        }
      ],
      "source": [
        "from google.colab import drive\n",
        "\n",
        "# Menghubungkan ke Google Drive\n",
        "drive.mount('/content/drive')"
      ]
    },
    {
      "cell_type": "code",
      "source": [
        "from google.colab import drive\n",
        "import pandas as pd\n",
        "\n",
        "# Menghubungkan ke Google Drive\n",
        "drive.mount('/content/drive')\n",
        "\n",
        "# Path ke file dataset di Google Drive\n",
        "file_path = '/content/drive/MyDrive/Dataset/kc_house_data.csv'  # Ganti dengan path sesuai dengan lokasi dataset Anda\n",
        "\n",
        "# Membaca dataset sebagai DataFrame\n",
        "df = pd.read_csv(file_path)\n",
        "\n",
        "# Menampilkan beberapa baris pertama dari DataFrame\n",
        "print(df.head())\n"
      ],
      "metadata": {
        "colab": {
          "base_uri": "https://localhost:8080/"
        },
        "id": "zkAAB6k7iXAO",
        "outputId": "31768abd-1e31-42c3-dba4-959214f752c4"
      },
      "execution_count": 23,
      "outputs": [
        {
          "output_type": "stream",
          "name": "stdout",
          "text": [
            "Drive already mounted at /content/drive; to attempt to forcibly remount, call drive.mount(\"/content/drive\", force_remount=True).\n",
            "           id             date     price  bedrooms  bathrooms  sqft_living  \\\n",
            "0  7129300520  20141013T000000  221900.0         3       1.00         1180   \n",
            "1  6414100192  20141209T000000  538000.0         3       2.25         2570   \n",
            "2  5631500400  20150225T000000  180000.0         2       1.00          770   \n",
            "3  2487200875  20141209T000000  604000.0         4       3.00         1960   \n",
            "4  1954400510  20150218T000000  510000.0         3       2.00         1680   \n",
            "\n",
            "   sqft_lot  floors  waterfront  view  ...  grade  sqft_above  sqft_basement  \\\n",
            "0      5650     1.0           0     0  ...      7      1180.0              0   \n",
            "1      7242     2.0           0     0  ...      7      2170.0            400   \n",
            "2     10000     1.0           0     0  ...      6       770.0              0   \n",
            "3      5000     1.0           0     0  ...      7      1050.0            910   \n",
            "4      8080     1.0           0     0  ...      8      1680.0              0   \n",
            "\n",
            "   yr_built  yr_renovated  zipcode      lat     long  sqft_living15  \\\n",
            "0      1955             0    98178  47.5112 -122.257           1340   \n",
            "1      1951          1991    98125  47.7210 -122.319           1690   \n",
            "2      1933             0    98028  47.7379 -122.233           2720   \n",
            "3      1965             0    98136  47.5208 -122.393           1360   \n",
            "4      1987             0    98074  47.6168 -122.045           1800   \n",
            "\n",
            "   sqft_lot15  \n",
            "0        5650  \n",
            "1        7639  \n",
            "2        8062  \n",
            "3        5000  \n",
            "4        7503  \n",
            "\n",
            "[5 rows x 21 columns]\n"
          ]
        }
      ]
    },
    {
      "cell_type": "code",
      "source": [
        "# Memeriksa tipe data kolom\n",
        "numerical_columns = df.select_dtypes(include=[np.number]).columns\n",
        "non_numerical_columns = df.select_dtypes(exclude=[np.number]).columns\n",
        "\n",
        "# Menampilkan kolom-kolom numerik\n",
        "print(\"Numerical Columns:\")\n",
        "print(numerical_columns)\n",
        "\n",
        "# Menampilkan kolom-kolom non-numerik\n",
        "print(\"\\nNon-Numerical Columns:\")\n",
        "print(non_numerical_columns)\n",
        "\n",
        "# Memeriksa apakah semua kolom numerik\n",
        "all_numerical = len(non_numerical_columns) == 0\n",
        "print(\"\\nAre all columns numeric?\", all_numerical)"
      ],
      "metadata": {
        "colab": {
          "base_uri": "https://localhost:8080/"
        },
        "id": "c0mA_PtdqaQb",
        "outputId": "d7cb2251-ee13-4c32-93ac-be9f1231a8a5"
      },
      "execution_count": 31,
      "outputs": [
        {
          "output_type": "stream",
          "name": "stdout",
          "text": [
            "Numerical Columns:\n",
            "Index(['id', 'price', 'bedrooms', 'bathrooms', 'sqft_living', 'sqft_lot',\n",
            "       'floors', 'waterfront', 'view', 'condition', 'grade', 'sqft_above',\n",
            "       'sqft_basement', 'yr_built', 'yr_renovated', 'zipcode', 'lat', 'long',\n",
            "       'sqft_living15', 'sqft_lot15'],\n",
            "      dtype='object')\n",
            "\n",
            "Non-Numerical Columns:\n",
            "Index(['date'], dtype='object')\n",
            "\n",
            "Are all columns numeric? False\n"
          ]
        }
      ]
    },
    {
      "cell_type": "code",
      "source": [
        "# Mengonversi kolom 'date' menjadi timestamp\n",
        "df['date'] = pd.to_datetime(df['date'])\n",
        "df['timestamp'] = df['date'].astype(int) / 10**9  # Konversi ke timestamp dalam detik"
      ],
      "metadata": {
        "id": "BOtOGrFwqsRe"
      },
      "execution_count": 32,
      "outputs": []
    },
    {
      "cell_type": "code",
      "source": [
        "# Menggantikan nilai nan dengan nilai rata-rata\n",
        "df = df.fillna(df.mean())"
      ],
      "metadata": {
        "colab": {
          "base_uri": "https://localhost:8080/"
        },
        "id": "dBjF3pQnrESP",
        "outputId": "0c60761a-ac25-43a2-8bba-ba628414c21b"
      },
      "execution_count": 35,
      "outputs": [
        {
          "output_type": "stream",
          "name": "stderr",
          "text": [
            "<ipython-input-35-607959d76e09>:2: FutureWarning: DataFrame.mean and DataFrame.median with numeric_only=None will include datetime64 and datetime64tz columns in a future version.\n",
            "  df = df.fillna(df.mean())\n"
          ]
        }
      ]
    },
    {
      "cell_type": "code",
      "source": [
        "# Gantikan nilai nan pada fitur dengan nilai rata-rata\n",
        "X_train = np.nan_to_num(X_train, nan=np.nanmean(X_train))\n",
        "X_test = np.nan_to_num(X_test, nan=np.nanmean(X_test))\n",
        "\n",
        "# Normalisasi data setelah menggantikan nilai nan\n",
        "scaler = StandardScaler()\n",
        "X_train = scaler.fit_transform(X_train)\n",
        "X_test = scaler.transform(X_test)\n"
      ],
      "metadata": {
        "id": "8F1Kv8PxpWnc"
      },
      "execution_count": 33,
      "outputs": []
    },
    {
      "cell_type": "code",
      "source": [
        "# Memeriksa jumlah nilai NaN pada setiap kolom\n",
        "nan_counts = df.isnull().sum()\n",
        "\n",
        "# Menampilkan kolom-kolom yang memiliki nilai NaN beserta jumlahnya\n",
        "columns_with_nan = nan_counts[nan_counts > 0]\n",
        "print(\"Columns with NaN values:\")\n",
        "print(columns_with_nan)"
      ],
      "metadata": {
        "colab": {
          "base_uri": "https://localhost:8080/"
        },
        "id": "Ue6y5m1DrL_J",
        "outputId": "6d3def47-43d1-46e0-c773-c42cc8e6fb49"
      },
      "execution_count": 36,
      "outputs": [
        {
          "output_type": "stream",
          "name": "stdout",
          "text": [
            "Columns with NaN values:\n",
            "Series([], dtype: int64)\n"
          ]
        }
      ]
    },
    {
      "cell_type": "code",
      "source": [
        "import pandas as pd\n",
        "import numpy as np\n",
        "from sklearn.model_selection import train_test_split\n",
        "from sklearn.preprocessing import StandardScaler\n",
        "from tensorflow.keras.models import Sequential\n",
        "from tensorflow.keras.layers import Dense\n",
        "\n",
        "# Memilih fitur yang akan digunakan untuk regresi\n",
        "features = ['bedrooms', 'bathrooms', 'sqft_living', 'sqft_lot', 'floors', 'waterfront', 'view',\n",
        "            'condition', 'grade', 'sqft_above', 'sqft_basement', 'yr_built', 'yr_renovated',\n",
        "            'zipcode', 'lat', 'long', 'sqft_living15', 'sqft_lot15']\n",
        "\n",
        "# Memilih kolom target\n",
        "target = 'price'\n",
        "\n",
        "# Memisahkan fitur (features) dan target (label)\n",
        "X = df[features]\n",
        "y = df[target]\n",
        "\n",
        "# Membagi dataset menjadi data latih dan data uji\n",
        "X_train, X_test, y_train, y_test = train_test_split(X, y, test_size=0.2, random_state=42)\n",
        "\n",
        "\n",
        "\n",
        "# Membangun model neural network untuk regresi\n",
        "model = Sequential()\n",
        "model.add(Dense(32, activation='relu', input_dim=X_train.shape[1]))\n",
        "model.add(Dense(16, activation='relu'))\n",
        "model.add(Dense(1, activation='linear'))  # Output layer dengan aktivasi linear untuk regresi\n",
        "\n",
        "# Kompilasi model\n",
        "model.compile(optimizer='adam', loss='mean_squared_error')\n",
        "\n",
        "# Melatih model\n",
        "model.fit(X_train, y_train, epochs=50, batch_size=32, validation_data=(X_test, y_test), verbose=1)\n",
        "\n",
        "\n",
        "# Evaluasi model pada data uji\n",
        "loss = model.evaluate(X_test, y_test)\n",
        "print(f'Mean Squared Error on Test Data: {loss}')\n",
        "\n",
        "# Prediksi harga untuk beberapa contoh data\n",
        "predictions = model.predict(X_test[:5])\n",
        "print(\"Predicted Prices:\")\n",
        "print(predictions)\n"
      ],
      "metadata": {
        "colab": {
          "base_uri": "https://localhost:8080/"
        },
        "id": "9KAIGyQllSJz",
        "outputId": "63d63009-ce11-46bb-bf4e-466cb1258d02"
      },
      "execution_count": 37,
      "outputs": [
        {
          "output_type": "stream",
          "name": "stdout",
          "text": [
            "Epoch 1/50\n",
            "541/541 [==============================] - 3s 3ms/step - loss: 182766960640.0000 - val_loss: 144636755968.0000\n",
            "Epoch 2/50\n",
            "541/541 [==============================] - 2s 3ms/step - loss: 119884980224.0000 - val_loss: 133337505792.0000\n",
            "Epoch 3/50\n",
            "541/541 [==============================] - 1s 2ms/step - loss: 107596906496.0000 - val_loss: 114644443136.0000\n",
            "Epoch 4/50\n",
            "541/541 [==============================] - 1s 2ms/step - loss: 85544321024.0000 - val_loss: 84708450304.0000\n",
            "Epoch 5/50\n",
            "541/541 [==============================] - 1s 2ms/step - loss: 68138536960.0000 - val_loss: 73719668736.0000\n",
            "Epoch 6/50\n",
            "541/541 [==============================] - 1s 3ms/step - loss: 63563628544.0000 - val_loss: 71138697216.0000\n",
            "Epoch 7/50\n",
            "541/541 [==============================] - 1s 2ms/step - loss: 61576036352.0000 - val_loss: 70795411456.0000\n",
            "Epoch 8/50\n",
            "541/541 [==============================] - 1s 2ms/step - loss: 60329873408.0000 - val_loss: 68493484032.0000\n",
            "Epoch 9/50\n",
            "541/541 [==============================] - 1s 2ms/step - loss: 59144085504.0000 - val_loss: 67121205248.0000\n",
            "Epoch 10/50\n",
            "541/541 [==============================] - 1s 2ms/step - loss: 58649747456.0000 - val_loss: 67232604160.0000\n",
            "Epoch 11/50\n",
            "541/541 [==============================] - 2s 3ms/step - loss: 58263683072.0000 - val_loss: 66627706880.0000\n",
            "Epoch 12/50\n",
            "541/541 [==============================] - 2s 3ms/step - loss: 57847627776.0000 - val_loss: 65381310464.0000\n",
            "Epoch 13/50\n",
            "541/541 [==============================] - 2s 3ms/step - loss: 57258819584.0000 - val_loss: 65305059328.0000\n",
            "Epoch 14/50\n",
            "541/541 [==============================] - 2s 3ms/step - loss: 56831434752.0000 - val_loss: 65600483328.0000\n",
            "Epoch 15/50\n",
            "541/541 [==============================] - 1s 2ms/step - loss: 56499728384.0000 - val_loss: 65440108544.0000\n",
            "Epoch 16/50\n",
            "541/541 [==============================] - 1s 2ms/step - loss: 56385691648.0000 - val_loss: 65379184640.0000\n",
            "Epoch 17/50\n",
            "541/541 [==============================] - 1s 2ms/step - loss: 56343814144.0000 - val_loss: 63812792320.0000\n",
            "Epoch 18/50\n",
            "541/541 [==============================] - 1s 2ms/step - loss: 55948607488.0000 - val_loss: 64316772352.0000\n",
            "Epoch 19/50\n",
            "541/541 [==============================] - 1s 2ms/step - loss: 55849943040.0000 - val_loss: 63497269248.0000\n",
            "Epoch 20/50\n",
            "541/541 [==============================] - 1s 2ms/step - loss: 55812538368.0000 - val_loss: 64045658112.0000\n",
            "Epoch 21/50\n",
            "541/541 [==============================] - 1s 3ms/step - loss: 55712440320.0000 - val_loss: 64022970368.0000\n",
            "Epoch 22/50\n",
            "541/541 [==============================] - 1s 2ms/step - loss: 55613313024.0000 - val_loss: 63029788672.0000\n",
            "Epoch 23/50\n",
            "541/541 [==============================] - 2s 3ms/step - loss: 55243575296.0000 - val_loss: 63207313408.0000\n",
            "Epoch 24/50\n",
            "541/541 [==============================] - 2s 3ms/step - loss: 55394783232.0000 - val_loss: 63171207168.0000\n",
            "Epoch 25/50\n",
            "541/541 [==============================] - 2s 3ms/step - loss: 55113248768.0000 - val_loss: 62978027520.0000\n",
            "Epoch 26/50\n",
            "541/541 [==============================] - 2s 3ms/step - loss: 55258288128.0000 - val_loss: 63206043648.0000\n",
            "Epoch 27/50\n",
            "541/541 [==============================] - 1s 2ms/step - loss: 55118053376.0000 - val_loss: 62381850624.0000\n",
            "Epoch 28/50\n",
            "541/541 [==============================] - 1s 2ms/step - loss: 55117504512.0000 - val_loss: 62262886400.0000\n",
            "Epoch 29/50\n",
            "541/541 [==============================] - 1s 2ms/step - loss: 54894706688.0000 - val_loss: 62986199040.0000\n",
            "Epoch 30/50\n",
            "541/541 [==============================] - 1s 2ms/step - loss: 54629138432.0000 - val_loss: 62813663232.0000\n",
            "Epoch 31/50\n",
            "541/541 [==============================] - 1s 2ms/step - loss: 54793555968.0000 - val_loss: 62379679744.0000\n",
            "Epoch 32/50\n",
            "541/541 [==============================] - 1s 2ms/step - loss: 54613692416.0000 - val_loss: 62817214464.0000\n",
            "Epoch 33/50\n",
            "541/541 [==============================] - 1s 2ms/step - loss: 54665756672.0000 - val_loss: 62005624832.0000\n",
            "Epoch 34/50\n",
            "541/541 [==============================] - 1s 2ms/step - loss: 54490550272.0000 - val_loss: 62336520192.0000\n",
            "Epoch 35/50\n",
            "541/541 [==============================] - 1s 3ms/step - loss: 54479708160.0000 - val_loss: 62424088576.0000\n",
            "Epoch 36/50\n",
            "541/541 [==============================] - 2s 3ms/step - loss: 54420348928.0000 - val_loss: 61936885760.0000\n",
            "Epoch 37/50\n",
            "541/541 [==============================] - 2s 3ms/step - loss: 54237646848.0000 - val_loss: 62084182016.0000\n",
            "Epoch 38/50\n",
            "541/541 [==============================] - 2s 3ms/step - loss: 54215536640.0000 - val_loss: 62371045376.0000\n",
            "Epoch 39/50\n",
            "541/541 [==============================] - 1s 2ms/step - loss: 54232854528.0000 - val_loss: 62072184832.0000\n",
            "Epoch 40/50\n",
            "541/541 [==============================] - 1s 2ms/step - loss: 54127964160.0000 - val_loss: 62019055616.0000\n",
            "Epoch 41/50\n",
            "541/541 [==============================] - 1s 2ms/step - loss: 54024527872.0000 - val_loss: 61903556608.0000\n",
            "Epoch 42/50\n",
            "541/541 [==============================] - 1s 2ms/step - loss: 54203715584.0000 - val_loss: 61532164096.0000\n",
            "Epoch 43/50\n",
            "541/541 [==============================] - 1s 2ms/step - loss: 54262841344.0000 - val_loss: 61408763904.0000\n",
            "Epoch 44/50\n",
            "541/541 [==============================] - 1s 2ms/step - loss: 54107348992.0000 - val_loss: 61855195136.0000\n",
            "Epoch 45/50\n",
            "541/541 [==============================] - 1s 2ms/step - loss: 53996900352.0000 - val_loss: 61471813632.0000\n",
            "Epoch 46/50\n",
            "541/541 [==============================] - 1s 2ms/step - loss: 53972885504.0000 - val_loss: 61450252288.0000\n",
            "Epoch 47/50\n",
            "541/541 [==============================] - 1s 2ms/step - loss: 53903945728.0000 - val_loss: 61229232128.0000\n",
            "Epoch 48/50\n",
            "541/541 [==============================] - 2s 3ms/step - loss: 53962473472.0000 - val_loss: 61531672576.0000\n",
            "Epoch 49/50\n",
            "541/541 [==============================] - 2s 3ms/step - loss: 53765771264.0000 - val_loss: 63074467840.0000\n",
            "Epoch 50/50\n",
            "541/541 [==============================] - 2s 3ms/step - loss: 53752672256.0000 - val_loss: 61459701760.0000\n",
            "136/136 [==============================] - 0s 2ms/step - loss: 61459701760.0000\n",
            "Mean Squared Error on Test Data: 61459701760.0\n",
            "1/1 [==============================] - 0s 76ms/step\n",
            "Predicted Prices:\n",
            "[[ 505335.94]\n",
            " [ 726336.7 ]\n",
            " [1165816.1 ]\n",
            " [1545680.6 ]\n",
            " [ 606901.7 ]]\n"
          ]
        }
      ]
    }
  ]
}